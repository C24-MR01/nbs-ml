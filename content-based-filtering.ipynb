{
 "cells": [
  {
   "cell_type": "markdown",
   "metadata": {
    "id": "ZKZsOsXzT6_r"
   },
   "source": [
    "<center>\n",
    "\n",
    "## ***Company-based Capstone Project***\n",
    "#### **Team ID\t\t: C24-MR01**\n",
    "\n",
    "Team Member\t: \n",
    "\n",
    "(ML) M002D4KY2877 - Auvarifqi Putra Diandra\n",
    "\n",
    "(ML) M010D4KY3370 - Rafi Madani\n",
    "\n",
    "(ML) M002D4KY2625 - Iskandar Muda Rizky Parlambang\n",
    "\n",
    "(MD) A010D4KY4202 - Muhammad Adryan Haska Putra\n",
    "\n",
    "(MD) A297D4KX4551 - Vena Feranica\n",
    "\n",
    "(CC) C002D4KY1032 - Muhammad Naufal\n",
    "\n",
    "(CC) C459D4KY0090 - Jamaludin Ahmad Rifai\n",
    "\n",
    "\n",
    "\n",
    "---"
   ]
  },
  {
   "cell_type": "markdown",
   "metadata": {
    "id": "X43BgcCPGt2D"
   },
   "source": [
    "## Import Library"
   ]
  },
  {
   "cell_type": "code",
   "metadata": {
    "id": "FESM7mN-SNPM",
    "ExecuteTime": {
     "end_time": "2024-06-07T15:31:40.897124Z",
     "start_time": "2024-06-07T15:31:40.869029Z"
    }
   },
   "source": [
    "import pandas as pd\n",
    "import numpy as np\n",
    "import urllib.request\n",
    "import zipfile\n",
    "from sklearn.metrics.pairwise import cosine_similarity\n",
    "from sklearn.feature_extraction.text import CountVectorizer\n",
    "from collections import Counter\n",
    "from numpy import where\n",
    "import os"
   ],
   "outputs": [],
   "execution_count": 2
  },
  {
   "cell_type": "code",
   "execution_count": 2,
   "metadata": {
    "id": "90JTioVi9bEh"
   },
   "outputs": [],
   "source": [
    "import warnings\n",
    "warnings.filterwarnings(\"ignore\")"
   ]
  },
  {
   "cell_type": "markdown",
   "metadata": {
    "id": "h98nqMnMHD71"
   },
   "source": [
    "## Functions"
   ]
  },
  {
   "cell_type": "code",
   "execution_count": 13,
   "metadata": {
    "id": "Mei-7gI5LjM2"
   },
   "outputs": [],
   "source": [
    "# mengecek nilai null\n",
    "def check_null(df):\n",
    "    col_na = df.isnull().sum().sort_values(ascending=True)\n",
    "    percent = col_na / len(df)\n",
    "    missing_data = pd.concat([col_na, percent], axis=1, keys=['Total', 'Percent'])\n",
    "\n",
    "    if (missing_data[missing_data['Total'] > 0].shape[0] == 0):\n",
    "        print(\"Tidak ditemukan missing value pada dataset\")\n",
    "    else:\n",
    "        print(missing_data[missing_data['Total'] > 0])"
   ]
  },
  {
   "cell_type": "code",
   "execution_count": 6,
   "metadata": {
    "id": "Z1bPk_FjMFPd"
   },
   "outputs": [],
   "source": [
    "# cek outlier di tiap fitur\n",
    "def check_outlier(df):\n",
    "    Q1 = df.quantile(0.25)\n",
    "    Q3 = df.quantile(0.75)\n",
    "\n",
    "    # Menghitung RUB dan RLB.\n",
    "    IQR = Q3 - Q1\n",
    "    lower_limit = Q1 - 1.5*IQR\n",
    "    upper_limit = Q3 + 1.5*IQR\n",
    "\n",
    "    # Menampilkan banyaknya outlier pada atribut.\n",
    "    outliers = (df < lower_limit) | (df > upper_limit)\n",
    "    print (\"Outlier pada tiap atribut:\")\n",
    "    print(outliers.sum())\n",
    "\n",
    "    return outliers"
   ]
  },
  {
   "cell_type": "code",
   "execution_count": 7,
   "metadata": {
    "id": "c3SL1al9MJzH"
   },
   "outputs": [],
   "source": [
    "# handle outlier di suatu column \n",
    "def outlier_handling(column, df):\n",
    "    Q1 = df[column].quantile(0.25)\n",
    "    Q3 = df[column].quantile(0.75)\n",
    "    IQR = Q3 - Q1\n",
    "    lower_range = Q1 - 1.5 * IQR\n",
    "    upper_range = Q3 + 1.5 * IQR\n",
    "    median = df.loc[(df[column] >= lower_range) | (df[column] <= upper_range), column].median()\n",
    "    df[column] = np.where((df[column] < lower_range) | (df[column] > upper_range), median, df[column])"
   ]
  },
  {
   "cell_type": "markdown",
   "metadata": {
    "id": "0MG8xq3DOUGG"
   },
   "source": [
    "## Data Preprocessing and Import And Read Dataset"
   ]
  },
  {
   "metadata": {
    "ExecuteTime": {
     "end_time": "2024-06-07T15:42:16.858836Z",
     "start_time": "2024-06-07T15:42:16.818860Z"
    }
   },
   "cell_type": "code",
   "source": [
    "# Get the current directory of the scrip\n",
    "\n",
    "data_url_1 = 'https://drive.usercontent.google.com/download?id=1rACBSh5FWqP5S_xMn3Ty382BSjGZC6U0&export=download&authuser=0&confirm=t&uuid=ee5921d6-dc36-4593-8662-f5e7490f590f&at=APZUnTXz447GE_ox2yw3NvJM1NLN%3A1717769617938'\n",
    "# Get the current working directory\n",
    "current_dir = os.getcwd()\n",
    "\n",
    "data_path = os.path.join(current_dir, 'data')\n",
    "print(data_path)\n",
    "\n",
    "# Create the target directory if it doesn't exist\n",
    "os.makedirs(data_path, exist_ok=True)\n",
    "\n",
    "# Define the full path for the downloaded file\n",
    "target_file_path = os.path.join(data_path, '10000-movie.csv')\n",
    "\n",
    "if not os.path.exists(target_file_path):\n",
    "    # Download the file to the target directory\n",
    "    urllib.request.urlretrieve(data_url_1, target_file_path)\n",
    "    print(f'File downloaded and saved to {target_file_path}')\n",
    "else:\n",
    "    print(f'File already exists at {target_file_path}, skipping download.')\n"
   ],
   "outputs": [
    {
     "name": "stdout",
     "output_type": "stream",
     "text": [
      "/Users/rafimadani/Documents/nbs-ml/data\n",
      "File already exists at /Users/rafimadani/Documents/nbs-ml/data/10000-movie.csv, skipping download.\n"
     ]
    }
   ],
   "execution_count": 12
  },
  {
   "cell_type": "code",
   "metadata": {
    "ExecuteTime": {
     "end_time": "2024-06-07T15:40:52.101664Z",
     "start_time": "2024-06-07T15:40:50.691558Z"
    }
   },
   "source": [
    "movies  = pd.read_csv(target_file_path)\n",
    "\n",
    "movies = movies.iloc[:, 0:7]\n",
    "movies = movies.dropna(subset=['cast', 'crew'])\n",
    "movies.info()"
   ],
   "outputs": [
    {
     "name": "stdout",
     "output_type": "stream",
     "text": [
      "<class 'pandas.core.frame.DataFrame'>\n",
      "Index: 7528 entries, 0 to 7531\n",
      "Data columns (total 7 columns):\n",
      " #   Column    Non-Null Count  Dtype \n",
      "---  ------    --------------  ----- \n",
      " 0   id        7528 non-null   object\n",
      " 1   title     7528 non-null   object\n",
      " 2   overview  7480 non-null   object\n",
      " 3   genres    7528 non-null   object\n",
      " 4   keywords  7528 non-null   object\n",
      " 5   cast      7528 non-null   object\n",
      " 6   crew      7528 non-null   object\n",
      "dtypes: object(7)\n",
      "memory usage: 470.5+ KB\n"
     ]
    }
   ],
   "execution_count": 11
  },
  {
   "cell_type": "markdown",
   "metadata": {},
   "source": [
    "## 1. Recommender System Based On Overview/Synopsys"
   ]
  },
  {
   "cell_type": "code",
   "execution_count": 25,
   "metadata": {},
   "outputs": [
    {
     "data": {
      "text/plain": [
       "(7528, 24202)"
      ]
     },
     "execution_count": 25,
     "metadata": {},
     "output_type": "execute_result"
    }
   ],
   "source": [
    "from sklearn.feature_extraction.text import TfidfVectorizer\n",
    "\n",
    "tfidf = TfidfVectorizer(stop_words='english')\n",
    "movies['overview'] = movies['overview'].fillna('')\n",
    "tfidf_matrix = tfidf.fit_transform(movies['overview'])\n",
    "tfidf_matrix.shape"
   ]
  },
  {
   "cell_type": "code",
   "execution_count": 26,
   "metadata": {},
   "outputs": [],
   "source": [
    "from sklearn.metrics.pairwise import linear_kernel\n",
    "\n",
    "# Compute the cosine similarity matrix\n",
    "cosine_sim = linear_kernel(tfidf_matrix, tfidf_matrix)"
   ]
  },
  {
   "cell_type": "code",
   "execution_count": 27,
   "metadata": {},
   "outputs": [],
   "source": [
    "indices = pd.Series(movies.index, index=movies['id'])"
   ]
  },
  {
   "cell_type": "code",
   "execution_count": 28,
   "metadata": {},
   "outputs": [],
   "source": [
    "def get_recommendations(movie_id, cosine_sim=cosine_sim):\n",
    "    if str(movie_id) not in movies['id'].unique():\n",
    "        return \"Movie ID not found in the dataset.\"\n",
    "    \n",
    "    id_to_find = movie_id\n",
    "    title = movies.loc[movies['id'] == id_to_find, 'title'].values[0]\n",
    "\n",
    "    # Get indices corresponding to the title\n",
    "    idx = indices[movie_id]\n",
    "    \n",
    "    # Convert idx to a list if it's not already\n",
    "    if not isinstance(idx, list):\n",
    "        idx = [idx]\n",
    "\n",
    "    sim_scores = []\n",
    "    for index in idx:\n",
    "        # Retrieve cosine similarities for the current index\n",
    "        cosine_sims = cosine_sim[index]\n",
    "        \n",
    "        # Extend sim_scores with the enumerated cosine similarities\n",
    "        sim_scores.extend(list(enumerate(cosine_sims)))\n",
    "\n",
    "    # Sort the sim_scores list based on similarity scores\n",
    "    sim_scores = sorted(sim_scores, key=lambda x: x[1], reverse=True)\n",
    "\n",
    "    # Retrieve top 5 similar movies\n",
    "    sim_scores = sim_scores[1:6]\n",
    "\n",
    "    # Extract movie indices from sim_scores\n",
    "    movie_indices = [i[0] for i in sim_scores]\n",
    "\n",
    "    return movies['id'].iloc[movie_indices]\n",
    "\n",
    "\n"
   ]
  },
  {
   "cell_type": "code",
   "execution_count": 29,
   "metadata": {},
   "outputs": [
    {
     "name": "stdout",
     "output_type": "stream",
     "text": [
      "Movies similar to 'Avengers: Age of Ultron' (ID: 99861):\n",
      "- Spider-Man: Homecoming\n",
      "- Iron Man 2\n",
      "- The Avengers\n",
      "- Heart of Stone\n",
      "- Iron Man\n"
     ]
    }
   ],
   "source": [
    "movie_id =\"99861\"\n",
    "similar_movie_ids = get_recommendations(movie_id)\n",
    "\n",
    "if isinstance(similar_movie_ids, str):\n",
    "    print(similar_movie_ids)  # Print error message if the provided ID is not found\n",
    "else:\n",
    "    title = movies.loc[movies['id'] == movie_id, 'title'].values[0]\n",
    "    print(f\"Movies similar to '{title}' (ID: {movie_id}):\")\n",
    "    for movie_id in similar_movie_ids:\n",
    "        movie_title = movies.loc[movies['id'] == movie_id, 'title'].values[0]\n",
    "        print(\"- {}\".format(movie_title))"
   ]
  },
  {
   "cell_type": "markdown",
   "metadata": {},
   "source": [
    "## 2. Recommender System Based On Cast and Genre"
   ]
  },
  {
   "cell_type": "code",
   "execution_count": 30,
   "metadata": {},
   "outputs": [],
   "source": [
    "from ast import literal_eval\n",
    "features = ['cast', 'crew', 'keywords', 'genres']\n",
    "for feature in features:\n",
    "    movies[feature] = movies[feature].apply(literal_eval)"
   ]
  },
  {
   "cell_type": "code",
   "execution_count": 31,
   "metadata": {},
   "outputs": [],
   "source": [
    "def get_director(x):\n",
    "    for i in x:\n",
    "        if i['job'] == 'Director':\n",
    "            return i['name']\n",
    "    return np.nan"
   ]
  },
  {
   "cell_type": "code",
   "execution_count": 32,
   "metadata": {},
   "outputs": [],
   "source": [
    "def get_list(x):\n",
    "    if isinstance(x, list):\n",
    "        names = [i['name'] for i in x]\n",
    "        if len(names) > 3:\n",
    "            names = names[:3]\n",
    "        return names\n",
    "    return []"
   ]
  },
  {
   "cell_type": "code",
   "execution_count": 33,
   "metadata": {},
   "outputs": [],
   "source": [
    "movies['director'] = movies['crew'].apply(get_director)\n",
    "features = ['cast', 'keywords', 'genres']\n",
    "for feature in features:\n",
    "    movies[feature] = movies[feature].apply(get_list)"
   ]
  },
  {
   "cell_type": "code",
   "execution_count": 34,
   "metadata": {},
   "outputs": [
    {
     "data": {
      "text/html": [
       "<div>\n",
       "<style scoped>\n",
       "    .dataframe tbody tr th:only-of-type {\n",
       "        vertical-align: middle;\n",
       "    }\n",
       "\n",
       "    .dataframe tbody tr th {\n",
       "        vertical-align: top;\n",
       "    }\n",
       "\n",
       "    .dataframe thead th {\n",
       "        text-align: right;\n",
       "    }\n",
       "</style>\n",
       "<table border=\"1\" class=\"dataframe\">\n",
       "  <thead>\n",
       "    <tr style=\"text-align: right;\">\n",
       "      <th></th>\n",
       "      <th>id</th>\n",
       "      <th>title</th>\n",
       "      <th>overview</th>\n",
       "      <th>genres</th>\n",
       "      <th>keywords</th>\n",
       "      <th>cast</th>\n",
       "      <th>crew</th>\n",
       "      <th>director</th>\n",
       "    </tr>\n",
       "  </thead>\n",
       "  <tbody>\n",
       "    <tr>\n",
       "      <th>0</th>\n",
       "      <td>653346</td>\n",
       "      <td>Kingdom of the Planet of the Apes</td>\n",
       "      <td>Several generations in the future following Ca...</td>\n",
       "      <td>[Science Fiction, Adventure, Action]</td>\n",
       "      <td>[empire, kingdom, gorilla]</td>\n",
       "      <td>[Owen Teague, Freya Allan, Kevin Durand]</td>\n",
       "      <td>[{'credit_id': '5de6f63611386c001354710d', 'de...</td>\n",
       "      <td>Wes Ball</td>\n",
       "    </tr>\n",
       "    <tr>\n",
       "      <th>1</th>\n",
       "      <td>929590</td>\n",
       "      <td>Civil War</td>\n",
       "      <td>In the near future, a group of war journalists...</td>\n",
       "      <td>[War, Action, Drama]</td>\n",
       "      <td>[sniper, new york city, race against time]</td>\n",
       "      <td>[Kirsten Dunst, Wagner Moura, Cailee Spaeny]</td>\n",
       "      <td>[{'credit_id': '61eb0f9b31644b0059dd097a', 'de...</td>\n",
       "      <td>Alex Garland</td>\n",
       "    </tr>\n",
       "    <tr>\n",
       "      <th>2</th>\n",
       "      <td>823464</td>\n",
       "      <td>Godzilla x Kong: The New Empire</td>\n",
       "      <td>Following their explosive showdown, Godzilla a...</td>\n",
       "      <td>[Science Fiction, Action, Adventure]</td>\n",
       "      <td>[giant monster, sequel, dinosaur]</td>\n",
       "      <td>[Rebecca Hall, Brian Tyree Henry, Dan Stevens]</td>\n",
       "      <td>[{'credit_id': '608879ed66e4690040e33c01', 'de...</td>\n",
       "      <td>Adam Wingard</td>\n",
       "    </tr>\n",
       "    <tr>\n",
       "      <th>3</th>\n",
       "      <td>719221</td>\n",
       "      <td>Tarot</td>\n",
       "      <td>When a group of friends recklessly violate the...</td>\n",
       "      <td>[Horror, Thriller]</td>\n",
       "      <td>[tarot cards, fate, slasher]</td>\n",
       "      <td>[Harriet Slater, Adain Bradley, Avantika]</td>\n",
       "      <td>[{'credit_id': '5ef61aec13af5f0035502b54', 'de...</td>\n",
       "      <td>Spenser Cohen</td>\n",
       "    </tr>\n",
       "    <tr>\n",
       "      <th>4</th>\n",
       "      <td>614933</td>\n",
       "      <td>Atlas</td>\n",
       "      <td>A brilliant counterterrorism analyst with a de...</td>\n",
       "      <td>[Science Fiction, Action]</td>\n",
       "      <td>[mission, artificial intelligence (a.i.), expl...</td>\n",
       "      <td>[Jennifer Lopez, Simu Liu, Sterling K. Brown]</td>\n",
       "      <td>[{'credit_id': '5d2895dcbe4b3632c49d840d', 'de...</td>\n",
       "      <td>Brad Peyton</td>\n",
       "    </tr>\n",
       "    <tr>\n",
       "      <th>...</th>\n",
       "      <td>...</td>\n",
       "      <td>...</td>\n",
       "      <td>...</td>\n",
       "      <td>...</td>\n",
       "      <td>...</td>\n",
       "      <td>...</td>\n",
       "      <td>...</td>\n",
       "      <td>...</td>\n",
       "    </tr>\n",
       "    <tr>\n",
       "      <th>7527</th>\n",
       "      <td>943397</td>\n",
       "      <td>Shooting My Life's Script</td>\n",
       "      <td>Everything changes in Fani's life when the opp...</td>\n",
       "      <td>[Romance, Comedy]</td>\n",
       "      <td>[book adaptation]</td>\n",
       "      <td>[Bela Fernandes, Xande Valois, Alanys Santos]</td>\n",
       "      <td>[{'credit_id': '6218c84319ab59004294e554', 'de...</td>\n",
       "      <td>Pedro Antônio</td>\n",
       "    </tr>\n",
       "    <tr>\n",
       "      <th>7528</th>\n",
       "      <td>245627</td>\n",
       "      <td>Abattoir</td>\n",
       "      <td>A reporter unearths an urban legend about a ho...</td>\n",
       "      <td>[Horror, Thriller]</td>\n",
       "      <td>[home, haunted house, based on comic]</td>\n",
       "      <td>[Jessica Lowndes, Joe Anderson, Lin Shaye]</td>\n",
       "      <td>[{'credit_id': '52fe4f09c3a36847f82b8b59', 'de...</td>\n",
       "      <td>Darren Lynn Bousman</td>\n",
       "    </tr>\n",
       "    <tr>\n",
       "      <th>7529</th>\n",
       "      <td>296626</td>\n",
       "      <td>Finders Keepers</td>\n",
       "      <td>A haunted doll teaches one little girl why chi...</td>\n",
       "      <td>[Mystery, Thriller, Horror]</td>\n",
       "      <td>[possession, profession, evil doll]</td>\n",
       "      <td>[Jaime Pressly, Kylie Rogers, Tobin Bell]</td>\n",
       "      <td>[{'credit_id': '54433346c3a3683e0e0039dd', 'de...</td>\n",
       "      <td>Alexander Yellen</td>\n",
       "    </tr>\n",
       "    <tr>\n",
       "      <th>7530</th>\n",
       "      <td>338</td>\n",
       "      <td>Good Bye, Lenin!</td>\n",
       "      <td>Alex Kerner's mother was in a coma while the B...</td>\n",
       "      <td>[Comedy, Drama]</td>\n",
       "      <td>[husband wife relationship, coma, bureaucracy]</td>\n",
       "      <td>[Daniel Brühl, Katrin Sass, Chulpan Khamatova]</td>\n",
       "      <td>[{'credit_id': '52fe4239c3a36847f800d99b', 'de...</td>\n",
       "      <td>Wolfgang Becker</td>\n",
       "    </tr>\n",
       "    <tr>\n",
       "      <th>7531</th>\n",
       "      <td>1152511</td>\n",
       "      <td>Call Me Alma</td>\n",
       "      <td>Alma, Azi Acosta, is a high-end bar girl. She ...</td>\n",
       "      <td>[Drama]</td>\n",
       "      <td>[]</td>\n",
       "      <td>[Azi Acosta, Jaclyn Jose, Mon Confiado]</td>\n",
       "      <td>[{'credit_id': '64b2e29c0e4fc800e3351c04', 'de...</td>\n",
       "      <td>Mac Alejandre</td>\n",
       "    </tr>\n",
       "  </tbody>\n",
       "</table>\n",
       "<p>7528 rows × 8 columns</p>\n",
       "</div>"
      ],
      "text/plain": [
       "           id                              title  \\\n",
       "0      653346  Kingdom of the Planet of the Apes   \n",
       "1      929590                          Civil War   \n",
       "2      823464    Godzilla x Kong: The New Empire   \n",
       "3      719221                              Tarot   \n",
       "4      614933                              Atlas   \n",
       "...       ...                                ...   \n",
       "7527   943397          Shooting My Life's Script   \n",
       "7528   245627                           Abattoir   \n",
       "7529   296626                    Finders Keepers   \n",
       "7530      338                   Good Bye, Lenin!   \n",
       "7531  1152511                       Call Me Alma   \n",
       "\n",
       "                                               overview  \\\n",
       "0     Several generations in the future following Ca...   \n",
       "1     In the near future, a group of war journalists...   \n",
       "2     Following their explosive showdown, Godzilla a...   \n",
       "3     When a group of friends recklessly violate the...   \n",
       "4     A brilliant counterterrorism analyst with a de...   \n",
       "...                                                 ...   \n",
       "7527  Everything changes in Fani's life when the opp...   \n",
       "7528  A reporter unearths an urban legend about a ho...   \n",
       "7529  A haunted doll teaches one little girl why chi...   \n",
       "7530  Alex Kerner's mother was in a coma while the B...   \n",
       "7531  Alma, Azi Acosta, is a high-end bar girl. She ...   \n",
       "\n",
       "                                    genres  \\\n",
       "0     [Science Fiction, Adventure, Action]   \n",
       "1                     [War, Action, Drama]   \n",
       "2     [Science Fiction, Action, Adventure]   \n",
       "3                       [Horror, Thriller]   \n",
       "4                [Science Fiction, Action]   \n",
       "...                                    ...   \n",
       "7527                     [Romance, Comedy]   \n",
       "7528                    [Horror, Thriller]   \n",
       "7529           [Mystery, Thriller, Horror]   \n",
       "7530                       [Comedy, Drama]   \n",
       "7531                               [Drama]   \n",
       "\n",
       "                                               keywords  \\\n",
       "0                            [empire, kingdom, gorilla]   \n",
       "1            [sniper, new york city, race against time]   \n",
       "2                     [giant monster, sequel, dinosaur]   \n",
       "3                          [tarot cards, fate, slasher]   \n",
       "4     [mission, artificial intelligence (a.i.), expl...   \n",
       "...                                                 ...   \n",
       "7527                                  [book adaptation]   \n",
       "7528              [home, haunted house, based on comic]   \n",
       "7529                [possession, profession, evil doll]   \n",
       "7530     [husband wife relationship, coma, bureaucracy]   \n",
       "7531                                                 []   \n",
       "\n",
       "                                                cast  \\\n",
       "0           [Owen Teague, Freya Allan, Kevin Durand]   \n",
       "1       [Kirsten Dunst, Wagner Moura, Cailee Spaeny]   \n",
       "2     [Rebecca Hall, Brian Tyree Henry, Dan Stevens]   \n",
       "3          [Harriet Slater, Adain Bradley, Avantika]   \n",
       "4      [Jennifer Lopez, Simu Liu, Sterling K. Brown]   \n",
       "...                                              ...   \n",
       "7527   [Bela Fernandes, Xande Valois, Alanys Santos]   \n",
       "7528      [Jessica Lowndes, Joe Anderson, Lin Shaye]   \n",
       "7529       [Jaime Pressly, Kylie Rogers, Tobin Bell]   \n",
       "7530  [Daniel Brühl, Katrin Sass, Chulpan Khamatova]   \n",
       "7531         [Azi Acosta, Jaclyn Jose, Mon Confiado]   \n",
       "\n",
       "                                                   crew             director  \n",
       "0     [{'credit_id': '5de6f63611386c001354710d', 'de...             Wes Ball  \n",
       "1     [{'credit_id': '61eb0f9b31644b0059dd097a', 'de...         Alex Garland  \n",
       "2     [{'credit_id': '608879ed66e4690040e33c01', 'de...         Adam Wingard  \n",
       "3     [{'credit_id': '5ef61aec13af5f0035502b54', 'de...        Spenser Cohen  \n",
       "4     [{'credit_id': '5d2895dcbe4b3632c49d840d', 'de...          Brad Peyton  \n",
       "...                                                 ...                  ...  \n",
       "7527  [{'credit_id': '6218c84319ab59004294e554', 'de...        Pedro Antônio  \n",
       "7528  [{'credit_id': '52fe4f09c3a36847f82b8b59', 'de...  Darren Lynn Bousman  \n",
       "7529  [{'credit_id': '54433346c3a3683e0e0039dd', 'de...     Alexander Yellen  \n",
       "7530  [{'credit_id': '52fe4239c3a36847f800d99b', 'de...      Wolfgang Becker  \n",
       "7531  [{'credit_id': '64b2e29c0e4fc800e3351c04', 'de...        Mac Alejandre  \n",
       "\n",
       "[7528 rows x 8 columns]"
      ]
     },
     "execution_count": 34,
     "metadata": {},
     "output_type": "execute_result"
    }
   ],
   "source": [
    "movies"
   ]
  },
  {
   "cell_type": "code",
   "execution_count": 56,
   "metadata": {},
   "outputs": [],
   "source": [
    "#clean data\n",
    "movies = movies.drop(columns=['crew'])\n",
    "def clean_data(x):\n",
    "    if isinstance(x, list):\n",
    "        return [str.lower(i.replace(\" \", \"\")) for i in x]\n",
    "    else:\n",
    "        if isinstance(x, str):\n",
    "            return str.lower(x.replace(\" \", \"\"))\n",
    "        else:\n",
    "            return ''"
   ]
  },
  {
   "cell_type": "code",
   "execution_count": 57,
   "metadata": {},
   "outputs": [],
   "source": [
    "#apply clean data\n",
    "features = ['cast', 'keywords', 'director', 'genres']\n",
    "for feature in features:\n",
    "    movies[feature] = movies[feature].apply(clean_data)"
   ]
  },
  {
   "cell_type": "code",
   "execution_count": 58,
   "metadata": {},
   "outputs": [],
   "source": [
    "def create_soup(x):\n",
    "    return ' '.join(x['keywords']) + ' ' + ' '.join(x['cast']) + ' ' + x['director'] + ' ' + ' '.join(x['genres'])\n",
    "\n",
    "movies['soup'] = movies.apply(create_soup, axis=1)"
   ]
  },
  {
   "cell_type": "code",
   "execution_count": 59,
   "metadata": {},
   "outputs": [],
   "source": [
    "count = CountVectorizer(stop_words='english')\n",
    "count_matrix = count.fit_transform(movies['soup'])"
   ]
  },
  {
   "cell_type": "code",
   "execution_count": 60,
   "metadata": {},
   "outputs": [],
   "source": [
    "cosine_sim2 = cosine_similarity(count_matrix, count_matrix)"
   ]
  },
  {
   "cell_type": "code",
   "execution_count": 61,
   "metadata": {},
   "outputs": [],
   "source": [
    "#reset index\n",
    "movies = movies.reset_index()\n",
    "indices = pd.Series(movies.index, index=movies['title'])"
   ]
  },
  {
   "cell_type": "code",
   "execution_count": 63,
   "metadata": {},
   "outputs": [
    {
     "data": {
      "text/plain": [
       "206                      Clash of the Titans\n",
       "71     The Mummy: Tomb of the Dragon Emperor\n",
       "786                        The Monkey King 2\n",
       "103                The Sorcerer's Apprentice\n",
       "131                                  G-Force\n",
       "Name: title, dtype: object"
      ]
     },
     "execution_count": 63,
     "metadata": {},
     "output_type": "execute_result"
    }
   ],
   "source": [
    "get_recommendations('Avatar', cosine_sim2)"
   ]
  },
  {
   "cell_type": "code",
   "execution_count": null,
   "metadata": {},
   "outputs": [],
   "source": []
  }
 ],
 "metadata": {
  "colab": {
   "provenance": []
  },
  "kernelspec": {
   "display_name": "Python 3 (ipykernel)",
   "name": "python3",
   "language": "python"
  },
  "language_info": {
   "codemirror_mode": {
    "name": "ipython",
    "version": 3
   },
   "file_extension": ".py",
   "mimetype": "text/x-python",
   "name": "python",
   "nbconvert_exporter": "python",
   "pygments_lexer": "ipython3",
   "version": "3.9.12"
  }
 },
 "nbformat": 4,
 "nbformat_minor": 0
}
