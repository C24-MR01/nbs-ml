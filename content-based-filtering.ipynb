{
 "cells": [
  {
   "cell_type": "markdown",
   "metadata": {
    "id": "ZKZsOsXzT6_r"
   },
   "source": [
    "<center>\n",
    "\n",
    "## ***Company-based Capstone Project***\n",
    "#### **Team ID\t\t: C24-MR01**\n",
    "\n",
    "Team Member\t: \n",
    "\n",
    "(ML) M002D4KY2877 - Auvarifqi Putra Diandra\n",
    "\n",
    "(ML) M010D4KY3370 - Rafi Madani\n",
    "\n",
    "(ML) M002D4KY2625 - Iskandar Muda Rizky Parlambang\n",
    "\n",
    "(MD) A010D4KY4202 - Muhammad Adryan Haska Putra\n",
    "\n",
    "(MD) A297D4KX4551 - Vena Feranica\n",
    "\n",
    "(CC) C002D4KY1032 - Muhammad Naufal\n",
    "\n",
    "(CC) C459D4KY0090 - Jamaludin Ahmad Rifai\n",
    "\n",
    "\n",
    "\n",
    "---"
   ]
  },
  {
   "cell_type": "markdown",
   "metadata": {
    "id": "X43BgcCPGt2D"
   },
   "source": [
    "## Import Library"
   ]
  },
  {
   "cell_type": "code",
   "execution_count": 2,
   "metadata": {
    "ExecuteTime": {
     "end_time": "2024-06-07T16:10:45.307400Z",
     "start_time": "2024-06-07T16:10:43.095262Z"
    },
    "id": "FESM7mN-SNPM"
   },
   "outputs": [],
   "source": [
    "import pandas as pd\n",
    "import numpy as np\n",
    "import urllib.request\n",
    "import zipfile\n",
    "from sklearn.metrics.pairwise import cosine_similarity\n",
    "from sklearn.feature_extraction.text import CountVectorizer\n",
    "from collections import Counter\n",
    "from numpy import where\n",
    "import os"
   ]
  },
  {
   "cell_type": "code",
   "execution_count": 34,
   "metadata": {
    "ExecuteTime": {
     "end_time": "2024-06-07T16:10:47.406767Z",
     "start_time": "2024-06-07T16:10:47.402451Z"
    },
    "id": "90JTioVi9bEh"
   },
   "outputs": [],
   "source": [
    "import warnings\n",
    "warnings.filterwarnings(\"ignore\")"
   ]
  },
  {
   "cell_type": "markdown",
   "metadata": {
    "id": "h98nqMnMHD71"
   },
   "source": [
    "## Functions"
   ]
  },
  {
   "cell_type": "code",
   "execution_count": 35,
   "metadata": {
    "ExecuteTime": {
     "end_time": "2024-06-07T16:10:50.237388Z",
     "start_time": "2024-06-07T16:10:50.224828Z"
    },
    "id": "Mei-7gI5LjM2"
   },
   "outputs": [],
   "source": [
    "# mengecek nilai null\n",
    "def check_null(df):\n",
    "    col_na = df.isnull().sum().sort_values(ascending=True)\n",
    "    percent = col_na / len(df)\n",
    "    missing_data = pd.concat([col_na, percent], axis=1, keys=['Total', 'Percent'])\n",
    "\n",
    "    if (missing_data[missing_data['Total'] > 0].shape[0] == 0):\n",
    "        print(\"Tidak ditemukan missing value pada dataset\")\n",
    "    else:\n",
    "        print(missing_data[missing_data['Total'] > 0])"
   ]
  },
  {
   "cell_type": "code",
   "execution_count": 36,
   "metadata": {
    "ExecuteTime": {
     "end_time": "2024-06-07T16:10:51.094751Z",
     "start_time": "2024-06-07T16:10:51.091017Z"
    },
    "id": "Z1bPk_FjMFPd"
   },
   "outputs": [],
   "source": [
    "# cek outlier di tiap fitur\n",
    "def check_outlier(df):\n",
    "    Q1 = df.quantile(0.25)\n",
    "    Q3 = df.quantile(0.75)\n",
    "\n",
    "    # Menghitung RUB dan RLB.\n",
    "    IQR = Q3 - Q1\n",
    "    lower_limit = Q1 - 1.5*IQR\n",
    "    upper_limit = Q3 + 1.5*IQR\n",
    "\n",
    "    # Menampilkan banyaknya outlier pada atribut.\n",
    "    outliers = (df < lower_limit) | (df > upper_limit)\n",
    "    print (\"Outlier pada tiap atribut:\")\n",
    "    print(outliers.sum())\n",
    "\n",
    "    return outliers"
   ]
  },
  {
   "cell_type": "code",
   "execution_count": 37,
   "metadata": {
    "ExecuteTime": {
     "end_time": "2024-06-07T16:10:51.600741Z",
     "start_time": "2024-06-07T16:10:51.595497Z"
    },
    "id": "c3SL1al9MJzH"
   },
   "outputs": [],
   "source": [
    "# handle outlier di suatu column \n",
    "def outlier_handling(column, df):\n",
    "    Q1 = df[column].quantile(0.25)\n",
    "    Q3 = df[column].quantile(0.75)\n",
    "    IQR = Q3 - Q1\n",
    "    lower_range = Q1 - 1.5 * IQR\n",
    "    upper_range = Q3 + 1.5 * IQR\n",
    "    median = df.loc[(df[column] >= lower_range) | (df[column] <= upper_range), column].median()\n",
    "    df[column] = np.where((df[column] < lower_range) | (df[column] > upper_range), median, df[column])"
   ]
  },
  {
   "cell_type": "markdown",
   "metadata": {
    "id": "0MG8xq3DOUGG"
   },
   "source": [
    "## Data Preprocessing and Import And Read Dataset"
   ]
  },
  {
   "cell_type": "code",
   "execution_count": 38,
   "metadata": {
    "ExecuteTime": {
     "end_time": "2024-06-07T16:10:53.014559Z",
     "start_time": "2024-06-07T16:10:53.009212Z"
    }
   },
   "outputs": [
    {
     "name": "stdout",
     "output_type": "stream",
     "text": [
      "/Users/rafimadani/Documents/nbs-ml/data\n",
      "File already exists at /Users/rafimadani/Documents/nbs-ml/data/10000-movie.csv, skipping download.\n"
     ]
    }
   ],
   "source": [
    "# Get the current directory of the scrip\n",
    "\n",
    "data_url_1 = 'https://drive.usercontent.google.com/download?id=1rACBSh5FWqP5S_xMn3Ty382BSjGZC6U0&export=download&authuser=0&confirm=t&uuid=ee5921d6-dc36-4593-8662-f5e7490f590f&at=APZUnTXz447GE_ox2yw3NvJM1NLN%3A1717769617938'\n",
    "# Get the current working directory\n",
    "current_dir = os.getcwd()\n",
    "\n",
    "data_path = os.path.join(current_dir, 'data')\n",
    "print(data_path)\n",
    "\n",
    "# Create the target directory if it doesn't exist\n",
    "os.makedirs(data_path, exist_ok=True)\n",
    "\n",
    "# Define the full path for the downloaded file\n",
    "target_file_path = os.path.join(data_path, '10000-movie.csv')\n",
    "\n",
    "if not os.path.exists(target_file_path):\n",
    "    # Download the file to the target directory\n",
    "    urllib.request.urlretrieve(data_url_1, target_file_path)\n",
    "    print(f'File downloaded and saved to {target_file_path}')\n",
    "else:\n",
    "    print(f'File already exists at {target_file_path}, skipping download.')\n"
   ]
  },
  {
   "cell_type": "code",
   "execution_count": 39,
   "metadata": {
    "ExecuteTime": {
     "end_time": "2024-06-07T16:10:55.640083Z",
     "start_time": "2024-06-07T16:10:54.049636Z"
    }
   },
   "outputs": [
    {
     "name": "stdout",
     "output_type": "stream",
     "text": [
      "<class 'pandas.core.frame.DataFrame'>\n",
      "Int64Index: 7528 entries, 0 to 7531\n",
      "Data columns (total 7 columns):\n",
      " #   Column    Non-Null Count  Dtype \n",
      "---  ------    --------------  ----- \n",
      " 0   id        7528 non-null   object\n",
      " 1   title     7528 non-null   object\n",
      " 2   overview  7480 non-null   object\n",
      " 3   genres    7528 non-null   object\n",
      " 4   keywords  7528 non-null   object\n",
      " 5   cast      7528 non-null   object\n",
      " 6   crew      7528 non-null   object\n",
      "dtypes: object(7)\n",
      "memory usage: 470.5+ KB\n"
     ]
    }
   ],
   "source": [
    "movies  = pd.read_csv(target_file_path)\n",
    "\n",
    "movies = movies.iloc[:, 0:7]\n",
    "movies = movies.dropna(subset=['cast', 'crew'])\n",
    "movies.info()\n"
   ]
  },
  {
   "cell_type": "markdown",
   "metadata": {},
   "source": [
    "## 1. Recommender System Based On Overview/Synopsys"
   ]
  },
  {
   "cell_type": "code",
   "execution_count": 40,
   "metadata": {
    "ExecuteTime": {
     "end_time": "2024-06-07T16:10:57.601882Z",
     "start_time": "2024-06-07T16:10:57.427349Z"
    }
   },
   "outputs": [
    {
     "data": {
      "text/plain": [
       "(7528, 24202)"
      ]
     },
     "execution_count": 40,
     "metadata": {},
     "output_type": "execute_result"
    }
   ],
   "source": [
    "from sklearn.feature_extraction.text import TfidfVectorizer\n",
    "\n",
    "tfidf = TfidfVectorizer(stop_words='english')\n",
    "movies['overview'] = movies['overview'].fillna('')\n",
    "tfidf_matrix = tfidf.fit_transform(movies['overview'])\n",
    "tfidf_matrix.shape"
   ]
  },
  {
   "cell_type": "code",
   "execution_count": 41,
   "metadata": {
    "ExecuteTime": {
     "end_time": "2024-06-07T16:10:58.399266Z",
     "start_time": "2024-06-07T16:10:57.953427Z"
    }
   },
   "outputs": [],
   "source": [
    "from sklearn.metrics.pairwise import linear_kernel\n",
    "\n",
    "# Compute the cosine similarity matrix\n",
    "cosine_sim = linear_kernel(tfidf_matrix, tfidf_matrix)"
   ]
  },
  {
   "cell_type": "code",
   "execution_count": 42,
   "metadata": {
    "ExecuteTime": {
     "end_time": "2024-06-07T16:10:58.470851Z",
     "start_time": "2024-06-07T16:10:58.468114Z"
    }
   },
   "outputs": [],
   "source": [
    "indices = pd.Series(movies.index, index=movies['id'])"
   ]
  },
  {
   "cell_type": "code",
   "execution_count": 43,
   "metadata": {
    "ExecuteTime": {
     "end_time": "2024-06-07T16:10:59.035933Z",
     "start_time": "2024-06-07T16:10:59.031941Z"
    }
   },
   "outputs": [],
   "source": [
    "def get_recommendations(movie_id, cosine_sim=cosine_sim):\n",
    "    try:\n",
    "        id_to_find = movie_id\n",
    "        title = movies.loc[movies['id'] == id_to_find, 'title'].values[0]\n",
    "\n",
    "        # Get indices corresponding to the title\n",
    "        idx = indices[movie_id]\n",
    "        \n",
    "        # Convert idx to a list if it's not already\n",
    "        if not isinstance(idx, list):\n",
    "            idx = [idx]\n",
    "\n",
    "        sim_scores = []\n",
    "        for index in idx:\n",
    "            # Retrieve cosine similarities for the current index\n",
    "            cosine_sims = cosine_sim[index]\n",
    "            \n",
    "            # Extend sim_scores with the enumerated cosine similarities\n",
    "        sim_scores.extend(list(enumerate(cosine_sims)))\n",
    "\n",
    "        # Sort the sim_scores list based on similarity scores\n",
    "        sim_scores = sorted(sim_scores, key=lambda x: x[1], reverse=True)\n",
    "\n",
    "        # Retrieve top 5 similar movies\n",
    "        sim_scores = sim_scores[1:6]\n",
    "        # Extract movie indices from sim_scores\n",
    "        movie_indices = [i[0] for i in sim_scores]\n",
    "\n",
    "        return movies['id'].iloc[movie_indices]\n",
    "    except IndexError as e:\n",
    "    # Handle the error\n",
    "        return(\"Movie ID is not found in dataset\")\n"
   ]
  },
  {
   "cell_type": "code",
   "execution_count": 32,
   "metadata": {
    "ExecuteTime": {
     "end_time": "2024-06-07T16:11:00.081742Z",
     "start_time": "2024-06-07T16:11:00.059774Z"
    }
   },
   "outputs": [
    {
     "ename": "KeyError",
     "evalue": "'823464'",
     "output_type": "error",
     "traceback": [
      "\u001b[0;31m---------------------------------------------------------------------------\u001b[0m",
      "\u001b[0;31mKeyError\u001b[0m                                  Traceback (most recent call last)",
      "File \u001b[0;32m~/opt/anaconda3/lib/python3.9/site-packages/pandas/core/indexes/base.py:3621\u001b[0m, in \u001b[0;36mIndex.get_loc\u001b[0;34m(self, key, method, tolerance)\u001b[0m\n\u001b[1;32m   3620\u001b[0m \u001b[38;5;28;01mtry\u001b[39;00m:\n\u001b[0;32m-> 3621\u001b[0m     \u001b[38;5;28;01mreturn\u001b[39;00m \u001b[38;5;28;43mself\u001b[39;49m\u001b[38;5;241;43m.\u001b[39;49m\u001b[43m_engine\u001b[49m\u001b[38;5;241;43m.\u001b[39;49m\u001b[43mget_loc\u001b[49m\u001b[43m(\u001b[49m\u001b[43mcasted_key\u001b[49m\u001b[43m)\u001b[49m\n\u001b[1;32m   3622\u001b[0m \u001b[38;5;28;01mexcept\u001b[39;00m \u001b[38;5;167;01mKeyError\u001b[39;00m \u001b[38;5;28;01mas\u001b[39;00m err:\n",
      "File \u001b[0;32m~/opt/anaconda3/lib/python3.9/site-packages/pandas/_libs/index.pyx:136\u001b[0m, in \u001b[0;36mpandas._libs.index.IndexEngine.get_loc\u001b[0;34m()\u001b[0m\n",
      "File \u001b[0;32m~/opt/anaconda3/lib/python3.9/site-packages/pandas/_libs/index.pyx:160\u001b[0m, in \u001b[0;36mpandas._libs.index.IndexEngine.get_loc\u001b[0;34m()\u001b[0m\n",
      "File \u001b[0;32m~/opt/anaconda3/lib/python3.9/site-packages/pandas/_libs/index.pyx:201\u001b[0m, in \u001b[0;36mpandas._libs.index.IndexEngine._get_loc_duplicates\u001b[0;34m()\u001b[0m\n",
      "File \u001b[0;32m~/opt/anaconda3/lib/python3.9/site-packages/pandas/_libs/index.pyx:209\u001b[0m, in \u001b[0;36mpandas._libs.index.IndexEngine._maybe_get_bool_indexer\u001b[0;34m()\u001b[0m\n",
      "File \u001b[0;32m~/opt/anaconda3/lib/python3.9/site-packages/pandas/_libs/index.pyx:107\u001b[0m, in \u001b[0;36mpandas._libs.index._unpack_bool_indexer\u001b[0;34m()\u001b[0m\n",
      "\u001b[0;31mKeyError\u001b[0m: '823464'",
      "\nThe above exception was the direct cause of the following exception:\n",
      "\u001b[0;31mKeyError\u001b[0m                                  Traceback (most recent call last)",
      "Input \u001b[0;32mIn [32]\u001b[0m, in \u001b[0;36m<cell line: 2>\u001b[0;34m()\u001b[0m\n\u001b[1;32m      1\u001b[0m movie_id \u001b[38;5;241m=\u001b[39m\u001b[38;5;124m\"\u001b[39m\u001b[38;5;124m823464\u001b[39m\u001b[38;5;124m\"\u001b[39m\n\u001b[0;32m----> 2\u001b[0m similar_movie_ids \u001b[38;5;241m=\u001b[39m \u001b[43mget_recommendations\u001b[49m\u001b[43m(\u001b[49m\u001b[43mmovie_id\u001b[49m\u001b[43m)\u001b[49m\n\u001b[1;32m      4\u001b[0m \u001b[38;5;28;01mif\u001b[39;00m \u001b[38;5;28misinstance\u001b[39m(similar_movie_ids, \u001b[38;5;28mstr\u001b[39m):\n\u001b[1;32m      5\u001b[0m     \u001b[38;5;28mprint\u001b[39m(similar_movie_ids)  \u001b[38;5;66;03m# Print error message if the provided ID is not found\u001b[39;00m\n",
      "Input \u001b[0;32mIn [9]\u001b[0m, in \u001b[0;36mget_recommendations\u001b[0;34m(movie_id, cosine_sim)\u001b[0m\n\u001b[1;32m      4\u001b[0m title \u001b[38;5;241m=\u001b[39m movies\u001b[38;5;241m.\u001b[39mloc[movies[\u001b[38;5;124m'\u001b[39m\u001b[38;5;124mid\u001b[39m\u001b[38;5;124m'\u001b[39m] \u001b[38;5;241m==\u001b[39m id_to_find, \u001b[38;5;124m'\u001b[39m\u001b[38;5;124mtitle\u001b[39m\u001b[38;5;124m'\u001b[39m]\u001b[38;5;241m.\u001b[39mvalues[\u001b[38;5;241m0\u001b[39m]\n\u001b[1;32m      6\u001b[0m \u001b[38;5;66;03m# Get indices corresponding to the title\u001b[39;00m\n\u001b[0;32m----> 7\u001b[0m idx \u001b[38;5;241m=\u001b[39m \u001b[43mindices\u001b[49m\u001b[43m[\u001b[49m\u001b[43mmovie_id\u001b[49m\u001b[43m]\u001b[49m\n\u001b[1;32m      9\u001b[0m \u001b[38;5;66;03m# Convert idx to a list if it's not already\u001b[39;00m\n\u001b[1;32m     10\u001b[0m \u001b[38;5;28;01mif\u001b[39;00m \u001b[38;5;129;01mnot\u001b[39;00m \u001b[38;5;28misinstance\u001b[39m(idx, \u001b[38;5;28mlist\u001b[39m):\n",
      "File \u001b[0;32m~/opt/anaconda3/lib/python3.9/site-packages/pandas/core/series.py:958\u001b[0m, in \u001b[0;36mSeries.__getitem__\u001b[0;34m(self, key)\u001b[0m\n\u001b[1;32m    955\u001b[0m     \u001b[38;5;28;01mreturn\u001b[39;00m \u001b[38;5;28mself\u001b[39m\u001b[38;5;241m.\u001b[39m_values[key]\n\u001b[1;32m    957\u001b[0m \u001b[38;5;28;01melif\u001b[39;00m key_is_scalar:\n\u001b[0;32m--> 958\u001b[0m     \u001b[38;5;28;01mreturn\u001b[39;00m \u001b[38;5;28;43mself\u001b[39;49m\u001b[38;5;241;43m.\u001b[39;49m\u001b[43m_get_value\u001b[49m\u001b[43m(\u001b[49m\u001b[43mkey\u001b[49m\u001b[43m)\u001b[49m\n\u001b[1;32m    960\u001b[0m \u001b[38;5;28;01mif\u001b[39;00m is_hashable(key):\n\u001b[1;32m    961\u001b[0m     \u001b[38;5;66;03m# Otherwise index.get_value will raise InvalidIndexError\u001b[39;00m\n\u001b[1;32m    962\u001b[0m     \u001b[38;5;28;01mtry\u001b[39;00m:\n\u001b[1;32m    963\u001b[0m         \u001b[38;5;66;03m# For labels that don't resolve as scalars like tuples and frozensets\u001b[39;00m\n",
      "File \u001b[0;32m~/opt/anaconda3/lib/python3.9/site-packages/pandas/core/series.py:1069\u001b[0m, in \u001b[0;36mSeries._get_value\u001b[0;34m(self, label, takeable)\u001b[0m\n\u001b[1;32m   1066\u001b[0m     \u001b[38;5;28;01mreturn\u001b[39;00m \u001b[38;5;28mself\u001b[39m\u001b[38;5;241m.\u001b[39m_values[label]\n\u001b[1;32m   1068\u001b[0m \u001b[38;5;66;03m# Similar to Index.get_value, but we do not fall back to positional\u001b[39;00m\n\u001b[0;32m-> 1069\u001b[0m loc \u001b[38;5;241m=\u001b[39m \u001b[38;5;28;43mself\u001b[39;49m\u001b[38;5;241;43m.\u001b[39;49m\u001b[43mindex\u001b[49m\u001b[38;5;241;43m.\u001b[39;49m\u001b[43mget_loc\u001b[49m\u001b[43m(\u001b[49m\u001b[43mlabel\u001b[49m\u001b[43m)\u001b[49m\n\u001b[1;32m   1070\u001b[0m \u001b[38;5;28;01mreturn\u001b[39;00m \u001b[38;5;28mself\u001b[39m\u001b[38;5;241m.\u001b[39mindex\u001b[38;5;241m.\u001b[39m_get_values_for_loc(\u001b[38;5;28mself\u001b[39m, loc, label)\n",
      "File \u001b[0;32m~/opt/anaconda3/lib/python3.9/site-packages/pandas/core/indexes/base.py:3623\u001b[0m, in \u001b[0;36mIndex.get_loc\u001b[0;34m(self, key, method, tolerance)\u001b[0m\n\u001b[1;32m   3621\u001b[0m     \u001b[38;5;28;01mreturn\u001b[39;00m \u001b[38;5;28mself\u001b[39m\u001b[38;5;241m.\u001b[39m_engine\u001b[38;5;241m.\u001b[39mget_loc(casted_key)\n\u001b[1;32m   3622\u001b[0m \u001b[38;5;28;01mexcept\u001b[39;00m \u001b[38;5;167;01mKeyError\u001b[39;00m \u001b[38;5;28;01mas\u001b[39;00m err:\n\u001b[0;32m-> 3623\u001b[0m     \u001b[38;5;28;01mraise\u001b[39;00m \u001b[38;5;167;01mKeyError\u001b[39;00m(key) \u001b[38;5;28;01mfrom\u001b[39;00m \u001b[38;5;21;01merr\u001b[39;00m\n\u001b[1;32m   3624\u001b[0m \u001b[38;5;28;01mexcept\u001b[39;00m \u001b[38;5;167;01mTypeError\u001b[39;00m:\n\u001b[1;32m   3625\u001b[0m     \u001b[38;5;66;03m# If we have a listlike key, _check_indexing_error will raise\u001b[39;00m\n\u001b[1;32m   3626\u001b[0m     \u001b[38;5;66;03m#  InvalidIndexError. Otherwise we fall through and re-raise\u001b[39;00m\n\u001b[1;32m   3627\u001b[0m     \u001b[38;5;66;03m#  the TypeError.\u001b[39;00m\n\u001b[1;32m   3628\u001b[0m     \u001b[38;5;28mself\u001b[39m\u001b[38;5;241m.\u001b[39m_check_indexing_error(key)\n",
      "\u001b[0;31mKeyError\u001b[0m: '823464'"
     ]
    }
   ],
   "source": [
    "movie_id =\"823464\"\n",
    "similar_movie_ids = get_recommendations(movie_id)\n",
    "\n",
    "if isinstance(similar_movie_ids, str):\n",
    "    print(similar_movie_ids)  # Print error message if the provided ID is not found\n",
    "else:\n",
    "    title = movies.loc[movies['id'] == movie_id, 'title'].values[0]\n",
    "    print(f\"Movies similar to '{title}' (ID: {movie_id}):\")\n",
    "    for movie_id in similar_movie_ids:\n",
    "        movie_title = movies.loc[movies['id'] == movie_id, 'title'].values[0]\n",
    "        print(\"- {}\".format(movie_title))"
   ]
  },
  {
   "cell_type": "code",
   "execution_count": 48,
   "metadata": {},
   "outputs": [
    {
     "data": {
      "text/html": [
       "<div>\n",
       "<style scoped>\n",
       "    .dataframe tbody tr th:only-of-type {\n",
       "        vertical-align: middle;\n",
       "    }\n",
       "\n",
       "    .dataframe tbody tr th {\n",
       "        vertical-align: top;\n",
       "    }\n",
       "\n",
       "    .dataframe thead th {\n",
       "        text-align: right;\n",
       "    }\n",
       "</style>\n",
       "<table border=\"1\" class=\"dataframe\">\n",
       "  <thead>\n",
       "    <tr style=\"text-align: right;\">\n",
       "      <th></th>\n",
       "      <th>id</th>\n",
       "      <th>title</th>\n",
       "      <th>overview</th>\n",
       "      <th>genres</th>\n",
       "      <th>keywords</th>\n",
       "      <th>cast</th>\n",
       "      <th>crew</th>\n",
       "    </tr>\n",
       "  </thead>\n",
       "  <tbody>\n",
       "    <tr>\n",
       "      <th>0</th>\n",
       "      <td>653346</td>\n",
       "      <td>Kingdom of the Planet of the Apes</td>\n",
       "      <td>Several generations in the future following Ca...</td>\n",
       "      <td>[{'id': 878, 'name': 'Science Fiction'}, {'id'...</td>\n",
       "      <td>[{'id': 11195, 'name': 'empire'}, {'id': 4152,...</td>\n",
       "      <td>[{'cast_id': 9, 'character': 'Noa', 'credit_id...</td>\n",
       "      <td>[{'credit_id': '5de6f63611386c001354710d', 'de...</td>\n",
       "    </tr>\n",
       "    <tr>\n",
       "      <th>1</th>\n",
       "      <td>929590</td>\n",
       "      <td>Civil War</td>\n",
       "      <td>In the near future, a group of war journalists...</td>\n",
       "      <td>[{'id': 10752, 'name': 'War'}, {'id': 28, 'nam...</td>\n",
       "      <td>[{'id': 1589, 'name': 'sniper'}, {'id': 242, '...</td>\n",
       "      <td>[{'cast_id': 228, 'character': 'Lee', 'credit_...</td>\n",
       "      <td>[{'credit_id': '61eb0f9b31644b0059dd097a', 'de...</td>\n",
       "    </tr>\n",
       "    <tr>\n",
       "      <th>2</th>\n",
       "      <td>823464</td>\n",
       "      <td>Godzilla x Kong: The New Empire</td>\n",
       "      <td>Following their explosive showdown, Godzilla a...</td>\n",
       "      <td>[{'id': 878, 'name': 'Science Fiction'}, {'id'...</td>\n",
       "      <td>[{'id': 11100, 'name': 'giant monster'}, {'id'...</td>\n",
       "      <td>[{'cast_id': 10, 'character': 'Dr. Ilene Andre...</td>\n",
       "      <td>[{'credit_id': '608879ed66e4690040e33c01', 'de...</td>\n",
       "    </tr>\n",
       "    <tr>\n",
       "      <th>3</th>\n",
       "      <td>719221</td>\n",
       "      <td>Tarot</td>\n",
       "      <td>When a group of friends recklessly violate the...</td>\n",
       "      <td>[{'id': 27, 'name': 'Horror'}, {'id': 53, 'nam...</td>\n",
       "      <td>[{'id': 2591, 'name': 'tarot cards'}, {'id': 1...</td>\n",
       "      <td>[{'cast_id': 14, 'character': 'Haley', 'credit...</td>\n",
       "      <td>[{'credit_id': '5ef61aec13af5f0035502b54', 'de...</td>\n",
       "    </tr>\n",
       "    <tr>\n",
       "      <th>4</th>\n",
       "      <td>614933</td>\n",
       "      <td>Atlas</td>\n",
       "      <td>A brilliant counterterrorism analyst with a de...</td>\n",
       "      <td>[{'id': 878, 'name': 'Science Fiction'}, {'id'...</td>\n",
       "      <td>[{'id': 10364, 'name': 'mission'}, {'id': 310,...</td>\n",
       "      <td>[{'cast_id': 10, 'character': 'Atlas Shepherd'...</td>\n",
       "      <td>[{'credit_id': '5d2895dcbe4b3632c49d840d', 'de...</td>\n",
       "    </tr>\n",
       "    <tr>\n",
       "      <th>...</th>\n",
       "      <td>...</td>\n",
       "      <td>...</td>\n",
       "      <td>...</td>\n",
       "      <td>...</td>\n",
       "      <td>...</td>\n",
       "      <td>...</td>\n",
       "      <td>...</td>\n",
       "    </tr>\n",
       "    <tr>\n",
       "      <th>7527</th>\n",
       "      <td>943397</td>\n",
       "      <td>Shooting My Life's Script</td>\n",
       "      <td>Everything changes in Fani's life when the opp...</td>\n",
       "      <td>[{'id': 10749, 'name': 'Romance'}, {'id': 35, ...</td>\n",
       "      <td>[{'id': 321218, 'name': 'book adaptation'}]</td>\n",
       "      <td>[{'cast_id': 1, 'character': 'Fani', 'credit_i...</td>\n",
       "      <td>[{'credit_id': '6218c84319ab59004294e554', 'de...</td>\n",
       "    </tr>\n",
       "    <tr>\n",
       "      <th>7528</th>\n",
       "      <td>245627</td>\n",
       "      <td>Abattoir</td>\n",
       "      <td>A reporter unearths an urban legend about a ho...</td>\n",
       "      <td>[{'id': 27, 'name': 'Horror'}, {'id': 53, 'nam...</td>\n",
       "      <td>[{'id': 1526, 'name': 'home'}, {'id': 3358, 'n...</td>\n",
       "      <td>[{'cast_id': 4, 'character': 'Julia', 'credit_...</td>\n",
       "      <td>[{'credit_id': '52fe4f09c3a36847f82b8b59', 'de...</td>\n",
       "    </tr>\n",
       "    <tr>\n",
       "      <th>7529</th>\n",
       "      <td>296626</td>\n",
       "      <td>Finders Keepers</td>\n",
       "      <td>A haunted doll teaches one little girl why chi...</td>\n",
       "      <td>[{'id': 9648, 'name': 'Mystery'}, {'id': 53, '...</td>\n",
       "      <td>[{'id': 9712, 'name': 'possession'}, {'id': 11...</td>\n",
       "      <td>[{'cast_id': 1, 'character': 'Alyson Simon', '...</td>\n",
       "      <td>[{'credit_id': '54433346c3a3683e0e0039dd', 'de...</td>\n",
       "    </tr>\n",
       "    <tr>\n",
       "      <th>7530</th>\n",
       "      <td>338</td>\n",
       "      <td>Good Bye, Lenin!</td>\n",
       "      <td>Alex Kerner's mother was in a coma while the B...</td>\n",
       "      <td>[{'id': 35, 'name': 'Comedy'}, {'id': 18, 'nam...</td>\n",
       "      <td>[{'id': 1157, 'name': 'husband wife relationsh...</td>\n",
       "      <td>[{'cast_id': 4, 'character': 'Alex', 'credit_i...</td>\n",
       "      <td>[{'credit_id': '52fe4239c3a36847f800d99b', 'de...</td>\n",
       "    </tr>\n",
       "    <tr>\n",
       "      <th>7531</th>\n",
       "      <td>1152511</td>\n",
       "      <td>Call Me Alma</td>\n",
       "      <td>Alma, Azi Acosta, is a high-end bar girl. She ...</td>\n",
       "      <td>[{'id': 18, 'name': 'Drama'}]</td>\n",
       "      <td>[]</td>\n",
       "      <td>[{'cast_id': 1, 'character': 'Alma', 'credit_i...</td>\n",
       "      <td>[{'credit_id': '64b2e29c0e4fc800e3351c04', 'de...</td>\n",
       "    </tr>\n",
       "  </tbody>\n",
       "</table>\n",
       "<p>7528 rows × 7 columns</p>\n",
       "</div>"
      ],
      "text/plain": [
       "           id                              title  \\\n",
       "0      653346  Kingdom of the Planet of the Apes   \n",
       "1      929590                          Civil War   \n",
       "2      823464    Godzilla x Kong: The New Empire   \n",
       "3      719221                              Tarot   \n",
       "4      614933                              Atlas   \n",
       "...       ...                                ...   \n",
       "7527   943397          Shooting My Life's Script   \n",
       "7528   245627                           Abattoir   \n",
       "7529   296626                    Finders Keepers   \n",
       "7530      338                   Good Bye, Lenin!   \n",
       "7531  1152511                       Call Me Alma   \n",
       "\n",
       "                                               overview  \\\n",
       "0     Several generations in the future following Ca...   \n",
       "1     In the near future, a group of war journalists...   \n",
       "2     Following their explosive showdown, Godzilla a...   \n",
       "3     When a group of friends recklessly violate the...   \n",
       "4     A brilliant counterterrorism analyst with a de...   \n",
       "...                                                 ...   \n",
       "7527  Everything changes in Fani's life when the opp...   \n",
       "7528  A reporter unearths an urban legend about a ho...   \n",
       "7529  A haunted doll teaches one little girl why chi...   \n",
       "7530  Alex Kerner's mother was in a coma while the B...   \n",
       "7531  Alma, Azi Acosta, is a high-end bar girl. She ...   \n",
       "\n",
       "                                                 genres  \\\n",
       "0     [{'id': 878, 'name': 'Science Fiction'}, {'id'...   \n",
       "1     [{'id': 10752, 'name': 'War'}, {'id': 28, 'nam...   \n",
       "2     [{'id': 878, 'name': 'Science Fiction'}, {'id'...   \n",
       "3     [{'id': 27, 'name': 'Horror'}, {'id': 53, 'nam...   \n",
       "4     [{'id': 878, 'name': 'Science Fiction'}, {'id'...   \n",
       "...                                                 ...   \n",
       "7527  [{'id': 10749, 'name': 'Romance'}, {'id': 35, ...   \n",
       "7528  [{'id': 27, 'name': 'Horror'}, {'id': 53, 'nam...   \n",
       "7529  [{'id': 9648, 'name': 'Mystery'}, {'id': 53, '...   \n",
       "7530  [{'id': 35, 'name': 'Comedy'}, {'id': 18, 'nam...   \n",
       "7531                      [{'id': 18, 'name': 'Drama'}]   \n",
       "\n",
       "                                               keywords  \\\n",
       "0     [{'id': 11195, 'name': 'empire'}, {'id': 4152,...   \n",
       "1     [{'id': 1589, 'name': 'sniper'}, {'id': 242, '...   \n",
       "2     [{'id': 11100, 'name': 'giant monster'}, {'id'...   \n",
       "3     [{'id': 2591, 'name': 'tarot cards'}, {'id': 1...   \n",
       "4     [{'id': 10364, 'name': 'mission'}, {'id': 310,...   \n",
       "...                                                 ...   \n",
       "7527        [{'id': 321218, 'name': 'book adaptation'}]   \n",
       "7528  [{'id': 1526, 'name': 'home'}, {'id': 3358, 'n...   \n",
       "7529  [{'id': 9712, 'name': 'possession'}, {'id': 11...   \n",
       "7530  [{'id': 1157, 'name': 'husband wife relationsh...   \n",
       "7531                                                 []   \n",
       "\n",
       "                                                   cast  \\\n",
       "0     [{'cast_id': 9, 'character': 'Noa', 'credit_id...   \n",
       "1     [{'cast_id': 228, 'character': 'Lee', 'credit_...   \n",
       "2     [{'cast_id': 10, 'character': 'Dr. Ilene Andre...   \n",
       "3     [{'cast_id': 14, 'character': 'Haley', 'credit...   \n",
       "4     [{'cast_id': 10, 'character': 'Atlas Shepherd'...   \n",
       "...                                                 ...   \n",
       "7527  [{'cast_id': 1, 'character': 'Fani', 'credit_i...   \n",
       "7528  [{'cast_id': 4, 'character': 'Julia', 'credit_...   \n",
       "7529  [{'cast_id': 1, 'character': 'Alyson Simon', '...   \n",
       "7530  [{'cast_id': 4, 'character': 'Alex', 'credit_i...   \n",
       "7531  [{'cast_id': 1, 'character': 'Alma', 'credit_i...   \n",
       "\n",
       "                                                   crew  \n",
       "0     [{'credit_id': '5de6f63611386c001354710d', 'de...  \n",
       "1     [{'credit_id': '61eb0f9b31644b0059dd097a', 'de...  \n",
       "2     [{'credit_id': '608879ed66e4690040e33c01', 'de...  \n",
       "3     [{'credit_id': '5ef61aec13af5f0035502b54', 'de...  \n",
       "4     [{'credit_id': '5d2895dcbe4b3632c49d840d', 'de...  \n",
       "...                                                 ...  \n",
       "7527  [{'credit_id': '6218c84319ab59004294e554', 'de...  \n",
       "7528  [{'credit_id': '52fe4f09c3a36847f82b8b59', 'de...  \n",
       "7529  [{'credit_id': '54433346c3a3683e0e0039dd', 'de...  \n",
       "7530  [{'credit_id': '52fe4239c3a36847f800d99b', 'de...  \n",
       "7531  [{'credit_id': '64b2e29c0e4fc800e3351c04', 'de...  \n",
       "\n",
       "[7528 rows x 7 columns]"
      ]
     },
     "execution_count": 48,
     "metadata": {},
     "output_type": "execute_result"
    }
   ],
   "source": [
    "movies"
   ]
  },
  {
   "cell_type": "markdown",
   "metadata": {},
   "source": [
    "## 2. Recommender System Based On Cast and Genre"
   ]
  },
  {
   "cell_type": "code",
   "execution_count": 44,
   "metadata": {
    "ExecuteTime": {
     "end_time": "2024-06-07T16:11:15.313951Z",
     "start_time": "2024-06-07T16:11:01.784770Z"
    }
   },
   "outputs": [],
   "source": [
    "from ast import literal_eval\n",
    "features = ['cast', 'crew', 'keywords', 'genres']\n",
    "for feature in features:\n",
    "    movies[feature] = movies[feature].apply(literal_eval)"
   ]
  },
  {
   "cell_type": "code",
   "execution_count": 45,
   "metadata": {
    "ExecuteTime": {
     "end_time": "2024-06-07T16:11:15.317665Z",
     "start_time": "2024-06-07T16:11:15.315199Z"
    }
   },
   "outputs": [],
   "source": [
    "def get_director(x):\n",
    "    for i in x:\n",
    "        if i['job'] == 'Director':\n",
    "            return i['name']\n",
    "    return np.nan"
   ]
  },
  {
   "cell_type": "code",
   "execution_count": 46,
   "metadata": {
    "ExecuteTime": {
     "end_time": "2024-06-07T16:11:18.008758Z",
     "start_time": "2024-06-07T16:11:18.005162Z"
    }
   },
   "outputs": [],
   "source": [
    "def get_list(x):\n",
    "    if isinstance(x, list):\n",
    "        names = [i['name'] for i in x]\n",
    "        if len(names) > 3:\n",
    "            names = names[:3]\n",
    "        return names\n",
    "    return []"
   ]
  },
  {
   "cell_type": "code",
   "execution_count": 47,
   "metadata": {
    "ExecuteTime": {
     "end_time": "2024-06-07T16:11:19.134840Z",
     "start_time": "2024-06-07T16:11:18.707728Z"
    }
   },
   "outputs": [],
   "source": [
    "movies['director'] = movies['crew'].apply(get_director)\n",
    "features = ['cast', 'keywords', 'genres']\n",
    "for feature in features:\n",
    "    movies[feature] = movies[feature].apply(get_list)"
   ]
  },
  {
   "cell_type": "code",
   "execution_count": 48,
   "metadata": {
    "ExecuteTime": {
     "end_time": "2024-06-07T16:11:20.490856Z",
     "start_time": "2024-06-07T16:11:20.406779Z"
    }
   },
   "outputs": [
    {
     "data": {
      "text/html": [
       "<div>\n",
       "<style scoped>\n",
       "    .dataframe tbody tr th:only-of-type {\n",
       "        vertical-align: middle;\n",
       "    }\n",
       "\n",
       "    .dataframe tbody tr th {\n",
       "        vertical-align: top;\n",
       "    }\n",
       "\n",
       "    .dataframe thead th {\n",
       "        text-align: right;\n",
       "    }\n",
       "</style>\n",
       "<table border=\"1\" class=\"dataframe\">\n",
       "  <thead>\n",
       "    <tr style=\"text-align: right;\">\n",
       "      <th></th>\n",
       "      <th>id</th>\n",
       "      <th>title</th>\n",
       "      <th>overview</th>\n",
       "      <th>genres</th>\n",
       "      <th>keywords</th>\n",
       "      <th>cast</th>\n",
       "      <th>crew</th>\n",
       "      <th>director</th>\n",
       "    </tr>\n",
       "  </thead>\n",
       "  <tbody>\n",
       "    <tr>\n",
       "      <th>0</th>\n",
       "      <td>653346</td>\n",
       "      <td>Kingdom of the Planet of the Apes</td>\n",
       "      <td>Several generations in the future following Ca...</td>\n",
       "      <td>[Science Fiction, Adventure, Action]</td>\n",
       "      <td>[empire, kingdom, gorilla]</td>\n",
       "      <td>[Owen Teague, Freya Allan, Kevin Durand]</td>\n",
       "      <td>[{'credit_id': '5de6f63611386c001354710d', 'de...</td>\n",
       "      <td>Wes Ball</td>\n",
       "    </tr>\n",
       "    <tr>\n",
       "      <th>1</th>\n",
       "      <td>929590</td>\n",
       "      <td>Civil War</td>\n",
       "      <td>In the near future, a group of war journalists...</td>\n",
       "      <td>[War, Action, Drama]</td>\n",
       "      <td>[sniper, new york city, race against time]</td>\n",
       "      <td>[Kirsten Dunst, Wagner Moura, Cailee Spaeny]</td>\n",
       "      <td>[{'credit_id': '61eb0f9b31644b0059dd097a', 'de...</td>\n",
       "      <td>Alex Garland</td>\n",
       "    </tr>\n",
       "    <tr>\n",
       "      <th>2</th>\n",
       "      <td>823464</td>\n",
       "      <td>Godzilla x Kong: The New Empire</td>\n",
       "      <td>Following their explosive showdown, Godzilla a...</td>\n",
       "      <td>[Science Fiction, Action, Adventure]</td>\n",
       "      <td>[giant monster, sequel, dinosaur]</td>\n",
       "      <td>[Rebecca Hall, Brian Tyree Henry, Dan Stevens]</td>\n",
       "      <td>[{'credit_id': '608879ed66e4690040e33c01', 'de...</td>\n",
       "      <td>Adam Wingard</td>\n",
       "    </tr>\n",
       "    <tr>\n",
       "      <th>3</th>\n",
       "      <td>719221</td>\n",
       "      <td>Tarot</td>\n",
       "      <td>When a group of friends recklessly violate the...</td>\n",
       "      <td>[Horror, Thriller]</td>\n",
       "      <td>[tarot cards, fate, slasher]</td>\n",
       "      <td>[Harriet Slater, Adain Bradley, Avantika]</td>\n",
       "      <td>[{'credit_id': '5ef61aec13af5f0035502b54', 'de...</td>\n",
       "      <td>Spenser Cohen</td>\n",
       "    </tr>\n",
       "    <tr>\n",
       "      <th>4</th>\n",
       "      <td>614933</td>\n",
       "      <td>Atlas</td>\n",
       "      <td>A brilliant counterterrorism analyst with a de...</td>\n",
       "      <td>[Science Fiction, Action]</td>\n",
       "      <td>[mission, artificial intelligence (a.i.), expl...</td>\n",
       "      <td>[Jennifer Lopez, Simu Liu, Sterling K. Brown]</td>\n",
       "      <td>[{'credit_id': '5d2895dcbe4b3632c49d840d', 'de...</td>\n",
       "      <td>Brad Peyton</td>\n",
       "    </tr>\n",
       "    <tr>\n",
       "      <th>...</th>\n",
       "      <td>...</td>\n",
       "      <td>...</td>\n",
       "      <td>...</td>\n",
       "      <td>...</td>\n",
       "      <td>...</td>\n",
       "      <td>...</td>\n",
       "      <td>...</td>\n",
       "      <td>...</td>\n",
       "    </tr>\n",
       "    <tr>\n",
       "      <th>7527</th>\n",
       "      <td>943397</td>\n",
       "      <td>Shooting My Life's Script</td>\n",
       "      <td>Everything changes in Fani's life when the opp...</td>\n",
       "      <td>[Romance, Comedy]</td>\n",
       "      <td>[book adaptation]</td>\n",
       "      <td>[Bela Fernandes, Xande Valois, Alanys Santos]</td>\n",
       "      <td>[{'credit_id': '6218c84319ab59004294e554', 'de...</td>\n",
       "      <td>Pedro Antônio</td>\n",
       "    </tr>\n",
       "    <tr>\n",
       "      <th>7528</th>\n",
       "      <td>245627</td>\n",
       "      <td>Abattoir</td>\n",
       "      <td>A reporter unearths an urban legend about a ho...</td>\n",
       "      <td>[Horror, Thriller]</td>\n",
       "      <td>[home, haunted house, based on comic]</td>\n",
       "      <td>[Jessica Lowndes, Joe Anderson, Lin Shaye]</td>\n",
       "      <td>[{'credit_id': '52fe4f09c3a36847f82b8b59', 'de...</td>\n",
       "      <td>Darren Lynn Bousman</td>\n",
       "    </tr>\n",
       "    <tr>\n",
       "      <th>7529</th>\n",
       "      <td>296626</td>\n",
       "      <td>Finders Keepers</td>\n",
       "      <td>A haunted doll teaches one little girl why chi...</td>\n",
       "      <td>[Mystery, Thriller, Horror]</td>\n",
       "      <td>[possession, profession, evil doll]</td>\n",
       "      <td>[Jaime Pressly, Kylie Rogers, Tobin Bell]</td>\n",
       "      <td>[{'credit_id': '54433346c3a3683e0e0039dd', 'de...</td>\n",
       "      <td>Alexander Yellen</td>\n",
       "    </tr>\n",
       "    <tr>\n",
       "      <th>7530</th>\n",
       "      <td>338</td>\n",
       "      <td>Good Bye, Lenin!</td>\n",
       "      <td>Alex Kerner's mother was in a coma while the B...</td>\n",
       "      <td>[Comedy, Drama]</td>\n",
       "      <td>[husband wife relationship, coma, bureaucracy]</td>\n",
       "      <td>[Daniel Brühl, Katrin Sass, Chulpan Khamatova]</td>\n",
       "      <td>[{'credit_id': '52fe4239c3a36847f800d99b', 'de...</td>\n",
       "      <td>Wolfgang Becker</td>\n",
       "    </tr>\n",
       "    <tr>\n",
       "      <th>7531</th>\n",
       "      <td>1152511</td>\n",
       "      <td>Call Me Alma</td>\n",
       "      <td>Alma, Azi Acosta, is a high-end bar girl. She ...</td>\n",
       "      <td>[Drama]</td>\n",
       "      <td>[]</td>\n",
       "      <td>[Azi Acosta, Jaclyn Jose, Mon Confiado]</td>\n",
       "      <td>[{'credit_id': '64b2e29c0e4fc800e3351c04', 'de...</td>\n",
       "      <td>Mac Alejandre</td>\n",
       "    </tr>\n",
       "  </tbody>\n",
       "</table>\n",
       "<p>7528 rows × 8 columns</p>\n",
       "</div>"
      ],
      "text/plain": [
       "           id                              title  \\\n",
       "0      653346  Kingdom of the Planet of the Apes   \n",
       "1      929590                          Civil War   \n",
       "2      823464    Godzilla x Kong: The New Empire   \n",
       "3      719221                              Tarot   \n",
       "4      614933                              Atlas   \n",
       "...       ...                                ...   \n",
       "7527   943397          Shooting My Life's Script   \n",
       "7528   245627                           Abattoir   \n",
       "7529   296626                    Finders Keepers   \n",
       "7530      338                   Good Bye, Lenin!   \n",
       "7531  1152511                       Call Me Alma   \n",
       "\n",
       "                                               overview  \\\n",
       "0     Several generations in the future following Ca...   \n",
       "1     In the near future, a group of war journalists...   \n",
       "2     Following their explosive showdown, Godzilla a...   \n",
       "3     When a group of friends recklessly violate the...   \n",
       "4     A brilliant counterterrorism analyst with a de...   \n",
       "...                                                 ...   \n",
       "7527  Everything changes in Fani's life when the opp...   \n",
       "7528  A reporter unearths an urban legend about a ho...   \n",
       "7529  A haunted doll teaches one little girl why chi...   \n",
       "7530  Alex Kerner's mother was in a coma while the B...   \n",
       "7531  Alma, Azi Acosta, is a high-end bar girl. She ...   \n",
       "\n",
       "                                    genres  \\\n",
       "0     [Science Fiction, Adventure, Action]   \n",
       "1                     [War, Action, Drama]   \n",
       "2     [Science Fiction, Action, Adventure]   \n",
       "3                       [Horror, Thriller]   \n",
       "4                [Science Fiction, Action]   \n",
       "...                                    ...   \n",
       "7527                     [Romance, Comedy]   \n",
       "7528                    [Horror, Thriller]   \n",
       "7529           [Mystery, Thriller, Horror]   \n",
       "7530                       [Comedy, Drama]   \n",
       "7531                               [Drama]   \n",
       "\n",
       "                                               keywords  \\\n",
       "0                            [empire, kingdom, gorilla]   \n",
       "1            [sniper, new york city, race against time]   \n",
       "2                     [giant monster, sequel, dinosaur]   \n",
       "3                          [tarot cards, fate, slasher]   \n",
       "4     [mission, artificial intelligence (a.i.), expl...   \n",
       "...                                                 ...   \n",
       "7527                                  [book adaptation]   \n",
       "7528              [home, haunted house, based on comic]   \n",
       "7529                [possession, profession, evil doll]   \n",
       "7530     [husband wife relationship, coma, bureaucracy]   \n",
       "7531                                                 []   \n",
       "\n",
       "                                                cast  \\\n",
       "0           [Owen Teague, Freya Allan, Kevin Durand]   \n",
       "1       [Kirsten Dunst, Wagner Moura, Cailee Spaeny]   \n",
       "2     [Rebecca Hall, Brian Tyree Henry, Dan Stevens]   \n",
       "3          [Harriet Slater, Adain Bradley, Avantika]   \n",
       "4      [Jennifer Lopez, Simu Liu, Sterling K. Brown]   \n",
       "...                                              ...   \n",
       "7527   [Bela Fernandes, Xande Valois, Alanys Santos]   \n",
       "7528      [Jessica Lowndes, Joe Anderson, Lin Shaye]   \n",
       "7529       [Jaime Pressly, Kylie Rogers, Tobin Bell]   \n",
       "7530  [Daniel Brühl, Katrin Sass, Chulpan Khamatova]   \n",
       "7531         [Azi Acosta, Jaclyn Jose, Mon Confiado]   \n",
       "\n",
       "                                                   crew             director  \n",
       "0     [{'credit_id': '5de6f63611386c001354710d', 'de...             Wes Ball  \n",
       "1     [{'credit_id': '61eb0f9b31644b0059dd097a', 'de...         Alex Garland  \n",
       "2     [{'credit_id': '608879ed66e4690040e33c01', 'de...         Adam Wingard  \n",
       "3     [{'credit_id': '5ef61aec13af5f0035502b54', 'de...        Spenser Cohen  \n",
       "4     [{'credit_id': '5d2895dcbe4b3632c49d840d', 'de...          Brad Peyton  \n",
       "...                                                 ...                  ...  \n",
       "7527  [{'credit_id': '6218c84319ab59004294e554', 'de...        Pedro Antônio  \n",
       "7528  [{'credit_id': '52fe4f09c3a36847f82b8b59', 'de...  Darren Lynn Bousman  \n",
       "7529  [{'credit_id': '54433346c3a3683e0e0039dd', 'de...     Alexander Yellen  \n",
       "7530  [{'credit_id': '52fe4239c3a36847f800d99b', 'de...      Wolfgang Becker  \n",
       "7531  [{'credit_id': '64b2e29c0e4fc800e3351c04', 'de...        Mac Alejandre  \n",
       "\n",
       "[7528 rows x 8 columns]"
      ]
     },
     "execution_count": 48,
     "metadata": {},
     "output_type": "execute_result"
    }
   ],
   "source": [
    "movies"
   ]
  },
  {
   "cell_type": "code",
   "execution_count": 49,
   "metadata": {
    "ExecuteTime": {
     "end_time": "2024-06-07T16:11:26.151953Z",
     "start_time": "2024-06-07T16:11:26.147597Z"
    }
   },
   "outputs": [],
   "source": [
    "#clean data\n",
    "movies = movies.drop(columns=['crew'])\n",
    "def clean_data(x):\n",
    "    if isinstance(x, list):\n",
    "        return [str.lower(i.replace(\" \", \"\")) for i in x]\n",
    "    else:\n",
    "        if isinstance(x, str):\n",
    "            return str.lower(x.replace(\" \", \"\"))\n",
    "        else:\n",
    "            return ''"
   ]
  },
  {
   "cell_type": "code",
   "execution_count": 50,
   "metadata": {
    "ExecuteTime": {
     "end_time": "2024-06-07T16:11:26.228728Z",
     "start_time": "2024-06-07T16:11:26.153355Z"
    }
   },
   "outputs": [],
   "source": [
    "#apply clean data\n",
    "features = ['cast', 'keywords', 'director', 'genres']\n",
    "for feature in features:\n",
    "    movies[feature] = movies[feature].apply(clean_data)"
   ]
  },
  {
   "cell_type": "code",
   "execution_count": 51,
   "metadata": {
    "ExecuteTime": {
     "end_time": "2024-06-07T16:11:26.281067Z",
     "start_time": "2024-06-07T16:11:26.230098Z"
    }
   },
   "outputs": [],
   "source": [
    "def create_soup(x):\n",
    "    return ' '.join(x['keywords']) + ' ' + ' '.join(x['cast']) + ' ' + x['director'] + ' ' + ' '.join(x['genres'])\n",
    "\n",
    "movies['soup'] = movies.apply(create_soup, axis=1)"
   ]
  },
  {
   "cell_type": "code",
   "execution_count": 52,
   "metadata": {
    "ExecuteTime": {
     "end_time": "2024-06-07T16:26:47.653416Z",
     "start_time": "2024-06-07T16:26:47.623176Z"
    }
   },
   "outputs": [
    {
     "name": "stdout",
     "output_type": "stream",
     "text": [
      "0       empire kingdom gorilla owenteague freyaallan k...\n",
      "1       sniper newyorkcity raceagainsttime kirstenduns...\n",
      "2       giantmonster sequel dinosaur rebeccahall brian...\n",
      "3       tarotcards fate slasher harrietslater adainbra...\n",
      "4       mission artificialintelligence(a.i.) explorati...\n",
      "                              ...                        \n",
      "7527    bookadaptation belafernandes xandevalois alany...\n",
      "7528    home hauntedhouse basedoncomic jessicalowndes ...\n",
      "7529    possession profession evildoll jaimepressly ky...\n",
      "7530    husbandwiferelationship coma bureaucracy danie...\n",
      "7531     aziacosta jaclynjose monconfiado macalejandre...\n",
      "Name: soup, Length: 7528, dtype: object\n"
     ]
    }
   ],
   "source": [
    "print(movies['soup'])"
   ]
  },
  {
   "cell_type": "code",
   "execution_count": 53,
   "metadata": {
    "ExecuteTime": {
     "end_time": "2024-06-07T16:11:27.501015Z",
     "start_time": "2024-06-07T16:11:27.412297Z"
    }
   },
   "outputs": [],
   "source": [
    "count = CountVectorizer(stop_words='english')\n",
    "count_matrix = count.fit_transform(movies['soup'])"
   ]
  },
  {
   "cell_type": "code",
   "execution_count": 54,
   "metadata": {
    "ExecuteTime": {
     "end_time": "2024-06-07T16:11:28.650950Z",
     "start_time": "2024-06-07T16:11:28.189791Z"
    }
   },
   "outputs": [],
   "source": [
    "cosine_sim2 = cosine_similarity(count_matrix, count_matrix)"
   ]
  },
  {
   "cell_type": "code",
   "execution_count": 55,
   "metadata": {
    "ExecuteTime": {
     "end_time": "2024-06-07T16:11:29.932496Z",
     "start_time": "2024-06-07T16:11:29.909581Z"
    }
   },
   "outputs": [],
   "source": [
    "#reset index\n",
    "movies = movies.reset_index()\n",
    "indices = pd.Series(movies.index, index=movies['id'])"
   ]
  },
  {
   "cell_type": "code",
   "execution_count": 28,
   "metadata": {
    "ExecuteTime": {
     "end_time": "2024-06-07T16:11:30.503229Z",
     "start_time": "2024-06-07T16:11:30.497622Z"
    }
   },
   "outputs": [
    {
     "data": {
      "text/plain": [
       "'Movie ID is not found in dataset'"
      ]
     },
     "execution_count": 28,
     "metadata": {},
     "output_type": "execute_result"
    }
   ],
   "source": [
    "get_recommendations('Avatar', cosine_sim2)"
   ]
  },
  {
   "cell_type": "code",
   "execution_count": 57,
   "metadata": {},
   "outputs": [
    {
     "name": "stdout",
     "output_type": "stream",
     "text": [
      "Movies similar to 'Godzilla x Kong: The New Empire' (ID: 823464):\n",
      "- Jurassic World Dominion\n",
      "- Ape vs Mecha Ape\n",
      "- Thor: Ragnarok\n",
      "- Guardians of the Galaxy Vol. 2\n",
      "- Transformers: Age of Extinction\n"
     ]
    }
   ],
   "source": [
    "movie_id =\"823464\"\n",
    "similar_movie_ids = get_recommendations(movie_id,cosine_sim2)\n",
    "\n",
    "if isinstance(similar_movie_ids, str):\n",
    "    print(similar_movie_ids)  # Print error message if the provided ID is not found\n",
    "else:\n",
    "    title = movies.loc[movies['id'] == movie_id, 'title'].values[0]\n",
    "    print(f\"Movies similar to '{title}' (ID: {movie_id}):\")\n",
    "    for movie_id in similar_movie_ids:\n",
    "        movie_title = movies.loc[movies['id'] == movie_id, 'title'].values[0]\n",
    "        print(\"- {}\".format(movie_title))"
   ]
  },
  {
   "cell_type": "code",
   "execution_count": 25,
   "metadata": {},
   "outputs": [
    {
     "data": {
      "text/html": [
       "<div>\n",
       "<style scoped>\n",
       "    .dataframe tbody tr th:only-of-type {\n",
       "        vertical-align: middle;\n",
       "    }\n",
       "\n",
       "    .dataframe tbody tr th {\n",
       "        vertical-align: top;\n",
       "    }\n",
       "\n",
       "    .dataframe thead th {\n",
       "        text-align: right;\n",
       "    }\n",
       "</style>\n",
       "<table border=\"1\" class=\"dataframe\">\n",
       "  <thead>\n",
       "    <tr style=\"text-align: right;\">\n",
       "      <th></th>\n",
       "      <th>index</th>\n",
       "      <th>id</th>\n",
       "      <th>title</th>\n",
       "      <th>overview</th>\n",
       "      <th>genres</th>\n",
       "      <th>keywords</th>\n",
       "      <th>cast</th>\n",
       "      <th>director</th>\n",
       "      <th>soup</th>\n",
       "    </tr>\n",
       "  </thead>\n",
       "  <tbody>\n",
       "    <tr>\n",
       "      <th>0</th>\n",
       "      <td>0</td>\n",
       "      <td>653346</td>\n",
       "      <td>Kingdom of the Planet of the Apes</td>\n",
       "      <td>Several generations in the future following Ca...</td>\n",
       "      <td>[sciencefiction, adventure, action]</td>\n",
       "      <td>[empire, kingdom, gorilla]</td>\n",
       "      <td>[owenteague, freyaallan, kevindurand]</td>\n",
       "      <td>wesball</td>\n",
       "      <td>empire kingdom gorilla owenteague freyaallan k...</td>\n",
       "    </tr>\n",
       "    <tr>\n",
       "      <th>1</th>\n",
       "      <td>1</td>\n",
       "      <td>929590</td>\n",
       "      <td>Civil War</td>\n",
       "      <td>In the near future, a group of war journalists...</td>\n",
       "      <td>[war, action, drama]</td>\n",
       "      <td>[sniper, newyorkcity, raceagainsttime]</td>\n",
       "      <td>[kirstendunst, wagnermoura, caileespaeny]</td>\n",
       "      <td>alexgarland</td>\n",
       "      <td>sniper newyorkcity raceagainsttime kirstenduns...</td>\n",
       "    </tr>\n",
       "    <tr>\n",
       "      <th>2</th>\n",
       "      <td>2</td>\n",
       "      <td>823464</td>\n",
       "      <td>Godzilla x Kong: The New Empire</td>\n",
       "      <td>Following their explosive showdown, Godzilla a...</td>\n",
       "      <td>[sciencefiction, action, adventure]</td>\n",
       "      <td>[giantmonster, sequel, dinosaur]</td>\n",
       "      <td>[rebeccahall, briantyreehenry, danstevens]</td>\n",
       "      <td>adamwingard</td>\n",
       "      <td>giantmonster sequel dinosaur rebeccahall brian...</td>\n",
       "    </tr>\n",
       "    <tr>\n",
       "      <th>3</th>\n",
       "      <td>3</td>\n",
       "      <td>719221</td>\n",
       "      <td>Tarot</td>\n",
       "      <td>When a group of friends recklessly violate the...</td>\n",
       "      <td>[horror, thriller]</td>\n",
       "      <td>[tarotcards, fate, slasher]</td>\n",
       "      <td>[harrietslater, adainbradley, avantika]</td>\n",
       "      <td>spensercohen</td>\n",
       "      <td>tarotcards fate slasher harrietslater adainbra...</td>\n",
       "    </tr>\n",
       "    <tr>\n",
       "      <th>4</th>\n",
       "      <td>4</td>\n",
       "      <td>614933</td>\n",
       "      <td>Atlas</td>\n",
       "      <td>A brilliant counterterrorism analyst with a de...</td>\n",
       "      <td>[sciencefiction, action]</td>\n",
       "      <td>[mission, artificialintelligence(a.i.), explor...</td>\n",
       "      <td>[jenniferlopez, simuliu, sterlingk.brown]</td>\n",
       "      <td>bradpeyton</td>\n",
       "      <td>mission artificialintelligence(a.i.) explorati...</td>\n",
       "    </tr>\n",
       "    <tr>\n",
       "      <th>...</th>\n",
       "      <td>...</td>\n",
       "      <td>...</td>\n",
       "      <td>...</td>\n",
       "      <td>...</td>\n",
       "      <td>...</td>\n",
       "      <td>...</td>\n",
       "      <td>...</td>\n",
       "      <td>...</td>\n",
       "      <td>...</td>\n",
       "    </tr>\n",
       "    <tr>\n",
       "      <th>7523</th>\n",
       "      <td>7527</td>\n",
       "      <td>943397</td>\n",
       "      <td>Shooting My Life's Script</td>\n",
       "      <td>Everything changes in Fani's life when the opp...</td>\n",
       "      <td>[romance, comedy]</td>\n",
       "      <td>[bookadaptation]</td>\n",
       "      <td>[belafernandes, xandevalois, alanyssantos]</td>\n",
       "      <td>pedroantônio</td>\n",
       "      <td>bookadaptation belafernandes xandevalois alany...</td>\n",
       "    </tr>\n",
       "    <tr>\n",
       "      <th>7524</th>\n",
       "      <td>7528</td>\n",
       "      <td>245627</td>\n",
       "      <td>Abattoir</td>\n",
       "      <td>A reporter unearths an urban legend about a ho...</td>\n",
       "      <td>[horror, thriller]</td>\n",
       "      <td>[home, hauntedhouse, basedoncomic]</td>\n",
       "      <td>[jessicalowndes, joeanderson, linshaye]</td>\n",
       "      <td>darrenlynnbousman</td>\n",
       "      <td>home hauntedhouse basedoncomic jessicalowndes ...</td>\n",
       "    </tr>\n",
       "    <tr>\n",
       "      <th>7525</th>\n",
       "      <td>7529</td>\n",
       "      <td>296626</td>\n",
       "      <td>Finders Keepers</td>\n",
       "      <td>A haunted doll teaches one little girl why chi...</td>\n",
       "      <td>[mystery, thriller, horror]</td>\n",
       "      <td>[possession, profession, evildoll]</td>\n",
       "      <td>[jaimepressly, kylierogers, tobinbell]</td>\n",
       "      <td>alexanderyellen</td>\n",
       "      <td>possession profession evildoll jaimepressly ky...</td>\n",
       "    </tr>\n",
       "    <tr>\n",
       "      <th>7526</th>\n",
       "      <td>7530</td>\n",
       "      <td>338</td>\n",
       "      <td>Good Bye, Lenin!</td>\n",
       "      <td>Alex Kerner's mother was in a coma while the B...</td>\n",
       "      <td>[comedy, drama]</td>\n",
       "      <td>[husbandwiferelationship, coma, bureaucracy]</td>\n",
       "      <td>[danielbrühl, katrinsass, chulpankhamatova]</td>\n",
       "      <td>wolfgangbecker</td>\n",
       "      <td>husbandwiferelationship coma bureaucracy danie...</td>\n",
       "    </tr>\n",
       "    <tr>\n",
       "      <th>7527</th>\n",
       "      <td>7531</td>\n",
       "      <td>1152511</td>\n",
       "      <td>Call Me Alma</td>\n",
       "      <td>Alma, Azi Acosta, is a high-end bar girl. She ...</td>\n",
       "      <td>[drama]</td>\n",
       "      <td>[]</td>\n",
       "      <td>[aziacosta, jaclynjose, monconfiado]</td>\n",
       "      <td>macalejandre</td>\n",
       "      <td>aziacosta jaclynjose monconfiado macalejandre...</td>\n",
       "    </tr>\n",
       "  </tbody>\n",
       "</table>\n",
       "<p>7528 rows × 9 columns</p>\n",
       "</div>"
      ],
      "text/plain": [
       "      index       id                              title  \\\n",
       "0         0   653346  Kingdom of the Planet of the Apes   \n",
       "1         1   929590                          Civil War   \n",
       "2         2   823464    Godzilla x Kong: The New Empire   \n",
       "3         3   719221                              Tarot   \n",
       "4         4   614933                              Atlas   \n",
       "...     ...      ...                                ...   \n",
       "7523   7527   943397          Shooting My Life's Script   \n",
       "7524   7528   245627                           Abattoir   \n",
       "7525   7529   296626                    Finders Keepers   \n",
       "7526   7530      338                   Good Bye, Lenin!   \n",
       "7527   7531  1152511                       Call Me Alma   \n",
       "\n",
       "                                               overview  \\\n",
       "0     Several generations in the future following Ca...   \n",
       "1     In the near future, a group of war journalists...   \n",
       "2     Following their explosive showdown, Godzilla a...   \n",
       "3     When a group of friends recklessly violate the...   \n",
       "4     A brilliant counterterrorism analyst with a de...   \n",
       "...                                                 ...   \n",
       "7523  Everything changes in Fani's life when the opp...   \n",
       "7524  A reporter unearths an urban legend about a ho...   \n",
       "7525  A haunted doll teaches one little girl why chi...   \n",
       "7526  Alex Kerner's mother was in a coma while the B...   \n",
       "7527  Alma, Azi Acosta, is a high-end bar girl. She ...   \n",
       "\n",
       "                                   genres  \\\n",
       "0     [sciencefiction, adventure, action]   \n",
       "1                    [war, action, drama]   \n",
       "2     [sciencefiction, action, adventure]   \n",
       "3                      [horror, thriller]   \n",
       "4                [sciencefiction, action]   \n",
       "...                                   ...   \n",
       "7523                    [romance, comedy]   \n",
       "7524                   [horror, thriller]   \n",
       "7525          [mystery, thriller, horror]   \n",
       "7526                      [comedy, drama]   \n",
       "7527                              [drama]   \n",
       "\n",
       "                                               keywords  \\\n",
       "0                            [empire, kingdom, gorilla]   \n",
       "1                [sniper, newyorkcity, raceagainsttime]   \n",
       "2                      [giantmonster, sequel, dinosaur]   \n",
       "3                           [tarotcards, fate, slasher]   \n",
       "4     [mission, artificialintelligence(a.i.), explor...   \n",
       "...                                                 ...   \n",
       "7523                                   [bookadaptation]   \n",
       "7524                 [home, hauntedhouse, basedoncomic]   \n",
       "7525                 [possession, profession, evildoll]   \n",
       "7526       [husbandwiferelationship, coma, bureaucracy]   \n",
       "7527                                                 []   \n",
       "\n",
       "                                             cast           director  \\\n",
       "0           [owenteague, freyaallan, kevindurand]            wesball   \n",
       "1       [kirstendunst, wagnermoura, caileespaeny]        alexgarland   \n",
       "2      [rebeccahall, briantyreehenry, danstevens]        adamwingard   \n",
       "3         [harrietslater, adainbradley, avantika]       spensercohen   \n",
       "4       [jenniferlopez, simuliu, sterlingk.brown]         bradpeyton   \n",
       "...                                           ...                ...   \n",
       "7523   [belafernandes, xandevalois, alanyssantos]       pedroantônio   \n",
       "7524      [jessicalowndes, joeanderson, linshaye]  darrenlynnbousman   \n",
       "7525       [jaimepressly, kylierogers, tobinbell]    alexanderyellen   \n",
       "7526  [danielbrühl, katrinsass, chulpankhamatova]     wolfgangbecker   \n",
       "7527         [aziacosta, jaclynjose, monconfiado]       macalejandre   \n",
       "\n",
       "                                                   soup  \n",
       "0     empire kingdom gorilla owenteague freyaallan k...  \n",
       "1     sniper newyorkcity raceagainsttime kirstenduns...  \n",
       "2     giantmonster sequel dinosaur rebeccahall brian...  \n",
       "3     tarotcards fate slasher harrietslater adainbra...  \n",
       "4     mission artificialintelligence(a.i.) explorati...  \n",
       "...                                                 ...  \n",
       "7523  bookadaptation belafernandes xandevalois alany...  \n",
       "7524  home hauntedhouse basedoncomic jessicalowndes ...  \n",
       "7525  possession profession evildoll jaimepressly ky...  \n",
       "7526  husbandwiferelationship coma bureaucracy danie...  \n",
       "7527   aziacosta jaclynjose monconfiado macalejandre...  \n",
       "\n",
       "[7528 rows x 9 columns]"
      ]
     },
     "execution_count": 25,
     "metadata": {},
     "output_type": "execute_result"
    }
   ],
   "source": [
    "movies"
   ]
  }
 ],
 "metadata": {
  "colab": {
   "provenance": []
  },
  "kernelspec": {
   "display_name": "Python 3 (ipykernel)",
   "language": "python",
   "name": "python3"
  },
  "language_info": {
   "codemirror_mode": {
    "name": "ipython",
    "version": 3
   },
   "file_extension": ".py",
   "mimetype": "text/x-python",
   "name": "python",
   "nbconvert_exporter": "python",
   "pygments_lexer": "ipython3",
   "version": "3.9.12"
  }
 },
 "nbformat": 4,
 "nbformat_minor": 0
}
