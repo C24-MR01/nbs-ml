{
 "cells": [
  {
   "cell_type": "markdown",
   "metadata": {},
   "source": [
    "<center>\n",
    "\n",
    "## ***Company-based Capstone Project***\n",
    "#### **Team ID\t\t: C24-MR01**\n",
    "\n",
    "Team Member\t: \n",
    "\n",
    "(ML) M002D4KY2877 - Auvarifqi Putra Diandra\n",
    "\n",
    "(ML) M010D4KY3370 - Rafi Madani\n",
    "\n",
    "(ML) M002D4KY2625 - Iskandar Muda Rizky Parlambang\n",
    "\n",
    "(MD) A010D4KY4202 - Muhammad Adryan Haska Putra\n",
    "\n",
    "(MD) A297D4KX4551 - Vena Feranica\n",
    "\n",
    "(CC) C002D4KY1032 - Muhammad Naufal\n",
    "\n",
    "(CC) C459D4KY0090 - Jamaludin Ahmad Rifai\n",
    "\n",
    "\n",
    "\n",
    "---"
   ]
  },
  {
   "cell_type": "code",
   "execution_count": null,
   "metadata": {},
   "outputs": [],
   "source": []
  }
 ],
 "metadata": {
  "language_info": {
   "name": "python"
  }
 },
 "nbformat": 4,
 "nbformat_minor": 2
}
